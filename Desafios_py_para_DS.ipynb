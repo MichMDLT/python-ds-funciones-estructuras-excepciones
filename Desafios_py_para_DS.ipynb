{
  "nbformat": 4,
  "nbformat_minor": 0,
  "metadata": {
    "colab": {
      "provenance": [],
      "authorship_tag": "ABX9TyNIi0b4g2MpVf5UwUYRIfzM",
      "include_colab_link": true
    },
    "kernelspec": {
      "name": "python3",
      "display_name": "Python 3"
    },
    "language_info": {
      "name": "python"
    }
  },
  "cells": [
    {
      "cell_type": "markdown",
      "metadata": {
        "id": "view-in-github",
        "colab_type": "text"
      },
      "source": [
        "<a href=\"https://colab.research.google.com/github/MichMDLT/python-ds-funciones-estructuras-excepciones/blob/main/Desafios_py_para_DS.ipynb\" target=\"_parent\"><img src=\"https://colab.research.google.com/assets/colab-badge.svg\" alt=\"Open In Colab\"/></a>"
      ]
    },
    {
      "cell_type": "code",
      "execution_count": 2,
      "metadata": {
        "id": "NBWiFusbLctt",
        "colab": {
          "base_uri": "https://localhost:8080/"
        },
        "outputId": "d65746de-a269-4424-8c84-95576be16f00"
      },
      "outputs": [
        {
          "output_type": "stream",
          "name": "stdout",
          "text": [
            "Requirement already satisfied: matplotlib in /usr/local/lib/python3.11/dist-packages (3.10.0)\n",
            "Requirement already satisfied: contourpy>=1.0.1 in /usr/local/lib/python3.11/dist-packages (from matplotlib) (1.3.2)\n",
            "Requirement already satisfied: cycler>=0.10 in /usr/local/lib/python3.11/dist-packages (from matplotlib) (0.12.1)\n",
            "Requirement already satisfied: fonttools>=4.22.0 in /usr/local/lib/python3.11/dist-packages (from matplotlib) (4.57.0)\n",
            "Requirement already satisfied: kiwisolver>=1.3.1 in /usr/local/lib/python3.11/dist-packages (from matplotlib) (1.4.8)\n",
            "Requirement already satisfied: numpy>=1.23 in /usr/local/lib/python3.11/dist-packages (from matplotlib) (2.0.2)\n",
            "Requirement already satisfied: packaging>=20.0 in /usr/local/lib/python3.11/dist-packages (from matplotlib) (24.2)\n",
            "Requirement already satisfied: pillow>=8 in /usr/local/lib/python3.11/dist-packages (from matplotlib) (11.1.0)\n",
            "Requirement already satisfied: pyparsing>=2.3.1 in /usr/local/lib/python3.11/dist-packages (from matplotlib) (3.2.3)\n",
            "Requirement already satisfied: python-dateutil>=2.7 in /usr/local/lib/python3.11/dist-packages (from matplotlib) (2.8.2)\n",
            "Requirement already satisfied: six>=1.5 in /usr/local/lib/python3.11/dist-packages (from python-dateutil>=2.7->matplotlib) (1.17.0)\n"
          ]
        }
      ],
      "source": [
        "!pip install matplotlib"
      ]
    },
    {
      "cell_type": "markdown",
      "source": [
        "# Desafíos:\n",
        "\n",
        "##Calentamiento\n",
        "\n",
        "1 - Escribe un código para instalar la versión 3.7.1 de la biblioteca matplotlib.\n",
        "\n",
        "2 - Escribe un código para importar la biblioteca numpy con el alias np.\n",
        "\n",
        "3 - Crea un programa que lea la siguiente lista de números y elija uno al azar.\n",
        "\n",
        "lista = [8, 12, 54, 23, 43, 1, 90, 87, 105, 77]\n",
        "\n",
        "\n",
        "4 - Crea un programa que genere aleatoriamente un número entero menor que 100.\n",
        "\n",
        "5 - Crea un programa que solicite a la persona usuaria ingresar dos números enteros y calcule la potencia del primer número elevado al segundo.\n",
        "\n",
        "##Aplicando a proyectos\n",
        "\n",
        "6 - Se debe escribir un programa para sortear a un seguidor de una red social para ganar un premio. La lista de participantes está numerada y debemos elegir aleatoriamente un número según la cantidad de participantes. Pide a la persona usuaria que proporcione el número de participantes del sorteo y devuelve el número sorteado.\n",
        "\n",
        "7 - Has recibido una solicitud para generar números de token para acceder a la aplicación de una empresa. El token debe ser par y variar de 1000 a 9998. Escribe un código que solicite el nombre de la persona usuaria y muestre un mensaje junto a este token generado aleatoriamente.\n",
        "\n",
        "print(f\"Hola, {nombre_usuario}, tu token de acceso es {token_generado} ¡Bienvenido/a!\")\n",
        "\n",
        "\n",
        "8 - Para diversificar y atraer nuevos clientes, una lanchonete creó un ítem misterioso en su menú llamado \"ensalada de frutas sorpresa\". En este ítem, se eligen aleatoriamente 3 frutas de una lista de 12 para componer la ensalada de frutas del cliente. Crea el código que realice esta selección aleatoria según la lista dada.\n",
        "\n",
        "frutas = [\"manzana\", \"banana\", \"uva\", \"pera\", \"mango\", \"coco\", \"sandia\", \"fresa\", \"naranja\", \"maracuya\", \"kiwi\", \"cereza\"]\n",
        "\n",
        "\n",
        "9 - Has recibido un desafío para calcular la raíz cuadrada de una lista de números, identificando cuáles resultan en un número entero. La lista es la siguiente:\n",
        "\n",
        "numeros = [2, 8, 15, 23, 91, 112, 256]\n",
        "\n",
        "\n",
        "10 - Haz un programa para una tienda que vende césped para jardines. Esta tienda trabaja con jardines circulares y el precio del metro cuadrado de césped es de R$ 25,00. Pide a la persona usuaria el radio del área circular y devuelve el valor en reales de cuánto tendrá que pagar."
      ],
      "metadata": {
        "id": "RloBhqlJLyNg"
      }
    },
    {
      "cell_type": "code",
      "source": [
        "#1\n",
        "\n",
        "#hacer el !pip install matplotlib\n",
        "#sigue la versión actual que NO correrra hasta instalar alguna en especial == matplotlib.__version__"
      ],
      "metadata": {
        "id": "Srwe270hboEc"
      },
      "execution_count": 3,
      "outputs": []
    },
    {
      "cell_type": "code",
      "source": [
        "#matplotlib.__version__"
      ],
      "metadata": {
        "id": "YZV3BKY5cqyS"
      },
      "execution_count": 4,
      "outputs": []
    },
    {
      "cell_type": "code",
      "source": [
        "#pip install matplotlib==3.7.1"
      ],
      "metadata": {
        "id": "99qdwisJcyjh"
      },
      "execution_count": 5,
      "outputs": []
    },
    {
      "cell_type": "code",
      "source": [
        "#2\n",
        "import numpy as np"
      ],
      "metadata": {
        "id": "7zpv8HK1d3P2"
      },
      "execution_count": 6,
      "outputs": []
    },
    {
      "cell_type": "code",
      "source": [
        "#3\n",
        "import random\n",
        "\n",
        "lista = [8, 12, 54, 23, 43, 1, 90, 87, 105, 77]\n",
        "num_aleatorio = random.choice(lista)\n",
        "print(num_aleatorio)"
      ],
      "metadata": {
        "colab": {
          "base_uri": "https://localhost:8080/"
        },
        "id": "Ba7UeN6reMr-",
        "outputId": "f1ed1807-a612-44fa-f633-824b013a6014"
      },
      "execution_count": 7,
      "outputs": [
        {
          "output_type": "stream",
          "name": "stdout",
          "text": [
            "12\n"
          ]
        }
      ]
    },
    {
      "cell_type": "code",
      "source": [
        "#4\n",
        "\n",
        "import random\n",
        "\n",
        "numero_aleatorio = random.randrange(100)\n",
        "print(numero_aleatorio)\n"
      ],
      "metadata": {
        "colab": {
          "base_uri": "https://localhost:8080/"
        },
        "id": "pBr4WZaVe1ft",
        "outputId": "167afddd-645e-44c9-89c9-a405ef8b1453"
      },
      "execution_count": 8,
      "outputs": [
        {
          "output_type": "stream",
          "name": "stdout",
          "text": [
            "98\n"
          ]
        }
      ]
    },
    {
      "cell_type": "code",
      "source": [
        "#5\n",
        "\n",
        "import math\n",
        "\n",
        "num_Uno = int(input(\"Digita número: \"))\n",
        "num_Dos = int(input(\"Digita otro número: \"))\n",
        "\n",
        "resultado = math.pow(num_Uno, num_Dos)\n",
        "print(f\"La potencia de {num_Uno}, elevado a {num_Dos} es {resultado}\")"
      ],
      "metadata": {
        "colab": {
          "base_uri": "https://localhost:8080/"
        },
        "id": "wHm49shKe1Ze",
        "outputId": "3616099a-831b-4543-f9a8-88ceefef5efc"
      },
      "execution_count": 9,
      "outputs": [
        {
          "output_type": "stream",
          "name": "stdout",
          "text": [
            "Digita número: 8\n",
            "Digita otro número: 7\n",
            "La potencia de 8, elevado a 7 es 2097152.0\n"
          ]
        }
      ]
    },
    {
      "cell_type": "code",
      "source": [
        "#6\n",
        "import random\n",
        "\n",
        "cantidad_participantes = int(input(\"Ingrese la cantidad de participantes: \"))\n",
        "numero_sorteado = random.randint(1, cantidad_participantes)\n",
        "print(f\"El número sorteado es: {numero_sorteado}\")"
      ],
      "metadata": {
        "colab": {
          "base_uri": "https://localhost:8080/"
        },
        "id": "gshNZaoge1TH",
        "outputId": "f4c63360-ba77-46e9-fce1-23c0f3ffd8ec"
      },
      "execution_count": 10,
      "outputs": [
        {
          "output_type": "stream",
          "name": "stdout",
          "text": [
            "Ingrese la cantidad de participantes: 10\n",
            "El número sorteado es: 5\n"
          ]
        }
      ]
    },
    {
      "cell_type": "code",
      "source": [
        "#7\n",
        "import random\n",
        "\n",
        "nombre_usuario = input(\"Ingrese su nombre: \")\n",
        "token_generado = random.randrange(1000, 9999, 2)\n",
        "print(f\"Hola, {nombre_usuario}, tu token de acceso es {token_generado} ¡Bienvenido/a!\")"
      ],
      "metadata": {
        "colab": {
          "base_uri": "https://localhost:8080/"
        },
        "id": "Q8dmXKHUe1NL",
        "outputId": "b9ad6a64-73b9-48db-ecda-a9e62967e2ad"
      },
      "execution_count": 11,
      "outputs": [
        {
          "output_type": "stream",
          "name": "stdout",
          "text": [
            "Ingrese su nombre: Mich\n",
            "Hola, Mich, tu token de acceso es 8642 ¡Bienvenido/a!\n"
          ]
        }
      ]
    },
    {
      "cell_type": "code",
      "source": [
        "#8\n",
        "import random\n",
        "\n",
        "frutas = [\"manzana\", \"banana\", \"uva\", \"pera\", \"mango\", \"coco\", \"sandia\", \"fresa\", \"naranja\", \"maracuya\", \"kiwi\", \"cereza\"]\n",
        "seleccion_frutas = random.sample(frutas, 3)\n",
        "print(\"Ensalada de frutas sorpresa:\", seleccion_frutas)"
      ],
      "metadata": {
        "colab": {
          "base_uri": "https://localhost:8080/"
        },
        "id": "7IDaoUnWe1Hj",
        "outputId": "6b363166-d383-4eff-b932-bdd4ed0f61ca"
      },
      "execution_count": 12,
      "outputs": [
        {
          "output_type": "stream",
          "name": "stdout",
          "text": [
            "Ensalada de frutas sorpresa: ['sandia', 'fresa', 'kiwi']\n"
          ]
        }
      ]
    },
    {
      "cell_type": "code",
      "source": [
        "#9\n",
        "import math\n",
        "\n",
        "numeros = [2, 8, 15, 23, 91, 112, 256]\n",
        "raices_enteras = [num for num in numeros if math.sqrt(num) % 1 == 0]\n",
        "print(\"Números con raíces enteras:\", raices_enteras)"
      ],
      "metadata": {
        "colab": {
          "base_uri": "https://localhost:8080/"
        },
        "id": "7wlyda4Ie1B0",
        "outputId": "ec1c1486-9da4-48c4-ebf7-ad69b91f5d91"
      },
      "execution_count": 13,
      "outputs": [
        {
          "output_type": "stream",
          "name": "stdout",
          "text": [
            "Números con raíces enteras: [256]\n"
          ]
        }
      ]
    },
    {
      "cell_type": "code",
      "source": [
        "#10\n",
        "import math\n",
        "\n",
        "precio_metro_cuadrado = 25.00\n",
        "radio = float(input(\"Ingrese el radio del área circular en metros: \"))\n",
        "area = math.pi * math.pow(radio, 2)\n",
        "costo_total = precio_metro_cuadrado * area\n",
        "\n",
        "print(f\"El costo total es de R$ {round(costo_total,2)}\")"
      ],
      "metadata": {
        "colab": {
          "base_uri": "https://localhost:8080/"
        },
        "id": "ErDnhsxMe08J",
        "outputId": "ea50c3c8-0bbf-4608-b149-34b62880bb2d"
      },
      "execution_count": 14,
      "outputs": [
        {
          "output_type": "stream",
          "name": "stdout",
          "text": [
            "Ingrese el radio del área circular en metros: 100\n",
            "El costo total es de R$ 785398.16\n"
          ]
        }
      ]
    },
    {
      "cell_type": "code",
      "source": [
        "# ejemplo de chatGPT:\n",
        "help(random)\n"
      ],
      "metadata": {
        "colab": {
          "base_uri": "https://localhost:8080/"
        },
        "id": "slx0co66e02j",
        "outputId": "33bfda7b-4e57-4b4a-8d53-89b51bdb8faf"
      },
      "execution_count": 15,
      "outputs": [
        {
          "output_type": "stream",
          "name": "stdout",
          "text": [
            "Help on module random:\n",
            "\n",
            "NAME\n",
            "    random - Random variable generators.\n",
            "\n",
            "MODULE REFERENCE\n",
            "    https://docs.python.org/3.11/library/random.html\n",
            "    \n",
            "    The following documentation is automatically generated from the Python\n",
            "    source files.  It may be incomplete, incorrect or include features that\n",
            "    are considered implementation detail and may vary between Python\n",
            "    implementations.  When in doubt, consult the module reference at the\n",
            "    location listed above.\n",
            "\n",
            "DESCRIPTION\n",
            "        bytes\n",
            "        -----\n",
            "               uniform bytes (values between 0 and 255)\n",
            "    \n",
            "        integers\n",
            "        --------\n",
            "               uniform within range\n",
            "    \n",
            "        sequences\n",
            "        ---------\n",
            "               pick random element\n",
            "               pick random sample\n",
            "               pick weighted random sample\n",
            "               generate random permutation\n",
            "    \n",
            "        distributions on the real line:\n",
            "        ------------------------------\n",
            "               uniform\n",
            "               triangular\n",
            "               normal (Gaussian)\n",
            "               lognormal\n",
            "               negative exponential\n",
            "               gamma\n",
            "               beta\n",
            "               pareto\n",
            "               Weibull\n",
            "    \n",
            "        distributions on the circle (angles 0 to 2pi)\n",
            "        ---------------------------------------------\n",
            "               circular uniform\n",
            "               von Mises\n",
            "    \n",
            "    General notes on the underlying Mersenne Twister core generator:\n",
            "    \n",
            "    * The period is 2**19937-1.\n",
            "    * It is one of the most extensively tested generators in existence.\n",
            "    * The random() method is implemented in C, executes in a single Python step,\n",
            "      and is, therefore, threadsafe.\n",
            "\n",
            "CLASSES\n",
            "    _random.Random(builtins.object)\n",
            "        Random\n",
            "            SystemRandom\n",
            "    \n",
            "    class Random(_random.Random)\n",
            "     |  Random(x=None)\n",
            "     |  \n",
            "     |  Random number generator base class used by bound module functions.\n",
            "     |  \n",
            "     |  Used to instantiate instances of Random to get generators that don't\n",
            "     |  share state.\n",
            "     |  \n",
            "     |  Class Random can also be subclassed if you want to use a different basic\n",
            "     |  generator of your own devising: in that case, override the following\n",
            "     |  methods:  random(), seed(), getstate(), and setstate().\n",
            "     |  Optionally, implement a getrandbits() method so that randrange()\n",
            "     |  can cover arbitrarily large ranges.\n",
            "     |  \n",
            "     |  Method resolution order:\n",
            "     |      Random\n",
            "     |      _random.Random\n",
            "     |      builtins.object\n",
            "     |  \n",
            "     |  Methods defined here:\n",
            "     |  \n",
            "     |  __getstate__(self)\n",
            "     |      Helper for pickle.\n",
            "     |  \n",
            "     |  __init__(self, x=None)\n",
            "     |      Initialize an instance.\n",
            "     |      \n",
            "     |      Optional argument x controls seeding, as for Random.seed().\n",
            "     |  \n",
            "     |  __reduce__(self)\n",
            "     |      Helper for pickle.\n",
            "     |  \n",
            "     |  __setstate__(self, state)\n",
            "     |  \n",
            "     |  betavariate(self, alpha, beta)\n",
            "     |      Beta distribution.\n",
            "     |      \n",
            "     |      Conditions on the parameters are alpha > 0 and beta > 0.\n",
            "     |      Returned values range between 0 and 1.\n",
            "     |  \n",
            "     |  choice(self, seq)\n",
            "     |      Choose a random element from a non-empty sequence.\n",
            "     |  \n",
            "     |  choices(self, population, weights=None, *, cum_weights=None, k=1)\n",
            "     |      Return a k sized list of population elements chosen with replacement.\n",
            "     |      \n",
            "     |      If the relative weights or cumulative weights are not specified,\n",
            "     |      the selections are made with equal probability.\n",
            "     |  \n",
            "     |  expovariate(self, lambd)\n",
            "     |      Exponential distribution.\n",
            "     |      \n",
            "     |      lambd is 1.0 divided by the desired mean.  It should be\n",
            "     |      nonzero.  (The parameter would be called \"lambda\", but that is\n",
            "     |      a reserved word in Python.)  Returned values range from 0 to\n",
            "     |      positive infinity if lambd is positive, and from negative\n",
            "     |      infinity to 0 if lambd is negative.\n",
            "     |  \n",
            "     |  gammavariate(self, alpha, beta)\n",
            "     |      Gamma distribution.  Not the gamma function!\n",
            "     |      \n",
            "     |      Conditions on the parameters are alpha > 0 and beta > 0.\n",
            "     |      \n",
            "     |      The probability distribution function is:\n",
            "     |      \n",
            "     |                  x ** (alpha - 1) * math.exp(-x / beta)\n",
            "     |        pdf(x) =  --------------------------------------\n",
            "     |                    math.gamma(alpha) * beta ** alpha\n",
            "     |  \n",
            "     |  gauss(self, mu=0.0, sigma=1.0)\n",
            "     |      Gaussian distribution.\n",
            "     |      \n",
            "     |      mu is the mean, and sigma is the standard deviation.  This is\n",
            "     |      slightly faster than the normalvariate() function.\n",
            "     |      \n",
            "     |      Not thread-safe without a lock around calls.\n",
            "     |  \n",
            "     |  getstate(self)\n",
            "     |      Return internal state; can be passed to setstate() later.\n",
            "     |  \n",
            "     |  lognormvariate(self, mu, sigma)\n",
            "     |      Log normal distribution.\n",
            "     |      \n",
            "     |      If you take the natural logarithm of this distribution, you'll get a\n",
            "     |      normal distribution with mean mu and standard deviation sigma.\n",
            "     |      mu can have any value, and sigma must be greater than zero.\n",
            "     |  \n",
            "     |  normalvariate(self, mu=0.0, sigma=1.0)\n",
            "     |      Normal distribution.\n",
            "     |      \n",
            "     |      mu is the mean, and sigma is the standard deviation.\n",
            "     |  \n",
            "     |  paretovariate(self, alpha)\n",
            "     |      Pareto distribution.  alpha is the shape parameter.\n",
            "     |  \n",
            "     |  randbytes(self, n)\n",
            "     |      Generate n random bytes.\n",
            "     |  \n",
            "     |  randint(self, a, b)\n",
            "     |      Return random integer in range [a, b], including both end points.\n",
            "     |  \n",
            "     |  randrange(self, start, stop=None, step=1)\n",
            "     |      Choose a random item from range(stop) or range(start, stop[, step]).\n",
            "     |      \n",
            "     |      Roughly equivalent to ``choice(range(start, stop, step))`` but\n",
            "     |      supports arbitrarily large ranges and is optimized for common cases.\n",
            "     |  \n",
            "     |  sample(self, population, k, *, counts=None)\n",
            "     |      Chooses k unique random elements from a population sequence.\n",
            "     |      \n",
            "     |      Returns a new list containing elements from the population while\n",
            "     |      leaving the original population unchanged.  The resulting list is\n",
            "     |      in selection order so that all sub-slices will also be valid random\n",
            "     |      samples.  This allows raffle winners (the sample) to be partitioned\n",
            "     |      into grand prize and second place winners (the subslices).\n",
            "     |      \n",
            "     |      Members of the population need not be hashable or unique.  If the\n",
            "     |      population contains repeats, then each occurrence is a possible\n",
            "     |      selection in the sample.\n",
            "     |      \n",
            "     |      Repeated elements can be specified one at a time or with the optional\n",
            "     |      counts parameter.  For example:\n",
            "     |      \n",
            "     |          sample(['red', 'blue'], counts=[4, 2], k=5)\n",
            "     |      \n",
            "     |      is equivalent to:\n",
            "     |      \n",
            "     |          sample(['red', 'red', 'red', 'red', 'blue', 'blue'], k=5)\n",
            "     |      \n",
            "     |      To choose a sample from a range of integers, use range() for the\n",
            "     |      population argument.  This is especially fast and space efficient\n",
            "     |      for sampling from a large population:\n",
            "     |      \n",
            "     |          sample(range(10000000), 60)\n",
            "     |  \n",
            "     |  seed(self, a=None, version=2)\n",
            "     |      Initialize internal state from a seed.\n",
            "     |      \n",
            "     |      The only supported seed types are None, int, float,\n",
            "     |      str, bytes, and bytearray.\n",
            "     |      \n",
            "     |      None or no argument seeds from current time or from an operating\n",
            "     |      system specific randomness source if available.\n",
            "     |      \n",
            "     |      If *a* is an int, all bits are used.\n",
            "     |      \n",
            "     |      For version 2 (the default), all of the bits are used if *a* is a str,\n",
            "     |      bytes, or bytearray.  For version 1 (provided for reproducing random\n",
            "     |      sequences from older versions of Python), the algorithm for str and\n",
            "     |      bytes generates a narrower range of seeds.\n",
            "     |  \n",
            "     |  setstate(self, state)\n",
            "     |      Restore internal state from object returned by getstate().\n",
            "     |  \n",
            "     |  shuffle(self, x)\n",
            "     |      Shuffle list x in place, and return None.\n",
            "     |  \n",
            "     |  triangular(self, low=0.0, high=1.0, mode=None)\n",
            "     |      Triangular distribution.\n",
            "     |      \n",
            "     |      Continuous distribution bounded by given lower and upper limits,\n",
            "     |      and having a given mode value in-between.\n",
            "     |      \n",
            "     |      http://en.wikipedia.org/wiki/Triangular_distribution\n",
            "     |  \n",
            "     |  uniform(self, a, b)\n",
            "     |      Get a random number in the range [a, b) or [a, b] depending on rounding.\n",
            "     |  \n",
            "     |  vonmisesvariate(self, mu, kappa)\n",
            "     |      Circular data distribution.\n",
            "     |      \n",
            "     |      mu is the mean angle, expressed in radians between 0 and 2*pi, and\n",
            "     |      kappa is the concentration parameter, which must be greater than or\n",
            "     |      equal to zero.  If kappa is equal to zero, this distribution reduces\n",
            "     |      to a uniform random angle over the range 0 to 2*pi.\n",
            "     |  \n",
            "     |  weibullvariate(self, alpha, beta)\n",
            "     |      Weibull distribution.\n",
            "     |      \n",
            "     |      alpha is the scale parameter and beta is the shape parameter.\n",
            "     |  \n",
            "     |  ----------------------------------------------------------------------\n",
            "     |  Class methods defined here:\n",
            "     |  \n",
            "     |  __init_subclass__(**kwargs)\n",
            "     |      Control how subclasses generate random integers.\n",
            "     |      \n",
            "     |      The algorithm a subclass can use depends on the random() and/or\n",
            "     |      getrandbits() implementation available to it and determines\n",
            "     |      whether it can generate random integers from arbitrarily large\n",
            "     |      ranges.\n",
            "     |  \n",
            "     |  ----------------------------------------------------------------------\n",
            "     |  Data descriptors defined here:\n",
            "     |  \n",
            "     |  __dict__\n",
            "     |      dictionary for instance variables\n",
            "     |  \n",
            "     |  __weakref__\n",
            "     |      list of weak references to the object\n",
            "     |  \n",
            "     |  ----------------------------------------------------------------------\n",
            "     |  Data and other attributes defined here:\n",
            "     |  \n",
            "     |  VERSION = 3\n",
            "     |  \n",
            "     |  ----------------------------------------------------------------------\n",
            "     |  Methods inherited from _random.Random:\n",
            "     |  \n",
            "     |  getrandbits(self, k, /)\n",
            "     |      getrandbits(k) -> x.  Generates an int with k random bits.\n",
            "     |  \n",
            "     |  random(self, /)\n",
            "     |      random() -> x in the interval [0, 1).\n",
            "     |  \n",
            "     |  ----------------------------------------------------------------------\n",
            "     |  Static methods inherited from _random.Random:\n",
            "     |  \n",
            "     |  __new__(*args, **kwargs) class method of _random.Random\n",
            "     |      Create and return a new object.  See help(type) for accurate signature.\n",
            "    \n",
            "    class SystemRandom(Random)\n",
            "     |  SystemRandom(x=None)\n",
            "     |  \n",
            "     |  Alternate random number generator using sources provided\n",
            "     |  by the operating system (such as /dev/urandom on Unix or\n",
            "     |  CryptGenRandom on Windows).\n",
            "     |  \n",
            "     |   Not available on all systems (see os.urandom() for details).\n",
            "     |  \n",
            "     |  Method resolution order:\n",
            "     |      SystemRandom\n",
            "     |      Random\n",
            "     |      _random.Random\n",
            "     |      builtins.object\n",
            "     |  \n",
            "     |  Methods defined here:\n",
            "     |  \n",
            "     |  getrandbits(self, k)\n",
            "     |      getrandbits(k) -> x.  Generates an int with k random bits.\n",
            "     |  \n",
            "     |  getstate = _notimplemented(self, *args, **kwds)\n",
            "     |  \n",
            "     |  randbytes(self, n)\n",
            "     |      Generate n random bytes.\n",
            "     |  \n",
            "     |  random(self)\n",
            "     |      Get the next random number in the range 0.0 <= X < 1.0.\n",
            "     |  \n",
            "     |  seed(self, *args, **kwds)\n",
            "     |      Stub method.  Not used for a system random number generator.\n",
            "     |  \n",
            "     |  setstate = _notimplemented(self, *args, **kwds)\n",
            "     |  \n",
            "     |  ----------------------------------------------------------------------\n",
            "     |  Methods inherited from Random:\n",
            "     |  \n",
            "     |  __getstate__(self)\n",
            "     |      Helper for pickle.\n",
            "     |  \n",
            "     |  __init__(self, x=None)\n",
            "     |      Initialize an instance.\n",
            "     |      \n",
            "     |      Optional argument x controls seeding, as for Random.seed().\n",
            "     |  \n",
            "     |  __reduce__(self)\n",
            "     |      Helper for pickle.\n",
            "     |  \n",
            "     |  __setstate__(self, state)\n",
            "     |  \n",
            "     |  betavariate(self, alpha, beta)\n",
            "     |      Beta distribution.\n",
            "     |      \n",
            "     |      Conditions on the parameters are alpha > 0 and beta > 0.\n",
            "     |      Returned values range between 0 and 1.\n",
            "     |  \n",
            "     |  choice(self, seq)\n",
            "     |      Choose a random element from a non-empty sequence.\n",
            "     |  \n",
            "     |  choices(self, population, weights=None, *, cum_weights=None, k=1)\n",
            "     |      Return a k sized list of population elements chosen with replacement.\n",
            "     |      \n",
            "     |      If the relative weights or cumulative weights are not specified,\n",
            "     |      the selections are made with equal probability.\n",
            "     |  \n",
            "     |  expovariate(self, lambd)\n",
            "     |      Exponential distribution.\n",
            "     |      \n",
            "     |      lambd is 1.0 divided by the desired mean.  It should be\n",
            "     |      nonzero.  (The parameter would be called \"lambda\", but that is\n",
            "     |      a reserved word in Python.)  Returned values range from 0 to\n",
            "     |      positive infinity if lambd is positive, and from negative\n",
            "     |      infinity to 0 if lambd is negative.\n",
            "     |  \n",
            "     |  gammavariate(self, alpha, beta)\n",
            "     |      Gamma distribution.  Not the gamma function!\n",
            "     |      \n",
            "     |      Conditions on the parameters are alpha > 0 and beta > 0.\n",
            "     |      \n",
            "     |      The probability distribution function is:\n",
            "     |      \n",
            "     |                  x ** (alpha - 1) * math.exp(-x / beta)\n",
            "     |        pdf(x) =  --------------------------------------\n",
            "     |                    math.gamma(alpha) * beta ** alpha\n",
            "     |  \n",
            "     |  gauss(self, mu=0.0, sigma=1.0)\n",
            "     |      Gaussian distribution.\n",
            "     |      \n",
            "     |      mu is the mean, and sigma is the standard deviation.  This is\n",
            "     |      slightly faster than the normalvariate() function.\n",
            "     |      \n",
            "     |      Not thread-safe without a lock around calls.\n",
            "     |  \n",
            "     |  lognormvariate(self, mu, sigma)\n",
            "     |      Log normal distribution.\n",
            "     |      \n",
            "     |      If you take the natural logarithm of this distribution, you'll get a\n",
            "     |      normal distribution with mean mu and standard deviation sigma.\n",
            "     |      mu can have any value, and sigma must be greater than zero.\n",
            "     |  \n",
            "     |  normalvariate(self, mu=0.0, sigma=1.0)\n",
            "     |      Normal distribution.\n",
            "     |      \n",
            "     |      mu is the mean, and sigma is the standard deviation.\n",
            "     |  \n",
            "     |  paretovariate(self, alpha)\n",
            "     |      Pareto distribution.  alpha is the shape parameter.\n",
            "     |  \n",
            "     |  randint(self, a, b)\n",
            "     |      Return random integer in range [a, b], including both end points.\n",
            "     |  \n",
            "     |  randrange(self, start, stop=None, step=1)\n",
            "     |      Choose a random item from range(stop) or range(start, stop[, step]).\n",
            "     |      \n",
            "     |      Roughly equivalent to ``choice(range(start, stop, step))`` but\n",
            "     |      supports arbitrarily large ranges and is optimized for common cases.\n",
            "     |  \n",
            "     |  sample(self, population, k, *, counts=None)\n",
            "     |      Chooses k unique random elements from a population sequence.\n",
            "     |      \n",
            "     |      Returns a new list containing elements from the population while\n",
            "     |      leaving the original population unchanged.  The resulting list is\n",
            "     |      in selection order so that all sub-slices will also be valid random\n",
            "     |      samples.  This allows raffle winners (the sample) to be partitioned\n",
            "     |      into grand prize and second place winners (the subslices).\n",
            "     |      \n",
            "     |      Members of the population need not be hashable or unique.  If the\n",
            "     |      population contains repeats, then each occurrence is a possible\n",
            "     |      selection in the sample.\n",
            "     |      \n",
            "     |      Repeated elements can be specified one at a time or with the optional\n",
            "     |      counts parameter.  For example:\n",
            "     |      \n",
            "     |          sample(['red', 'blue'], counts=[4, 2], k=5)\n",
            "     |      \n",
            "     |      is equivalent to:\n",
            "     |      \n",
            "     |          sample(['red', 'red', 'red', 'red', 'blue', 'blue'], k=5)\n",
            "     |      \n",
            "     |      To choose a sample from a range of integers, use range() for the\n",
            "     |      population argument.  This is especially fast and space efficient\n",
            "     |      for sampling from a large population:\n",
            "     |      \n",
            "     |          sample(range(10000000), 60)\n",
            "     |  \n",
            "     |  shuffle(self, x)\n",
            "     |      Shuffle list x in place, and return None.\n",
            "     |  \n",
            "     |  triangular(self, low=0.0, high=1.0, mode=None)\n",
            "     |      Triangular distribution.\n",
            "     |      \n",
            "     |      Continuous distribution bounded by given lower and upper limits,\n",
            "     |      and having a given mode value in-between.\n",
            "     |      \n",
            "     |      http://en.wikipedia.org/wiki/Triangular_distribution\n",
            "     |  \n",
            "     |  uniform(self, a, b)\n",
            "     |      Get a random number in the range [a, b) or [a, b] depending on rounding.\n",
            "     |  \n",
            "     |  vonmisesvariate(self, mu, kappa)\n",
            "     |      Circular data distribution.\n",
            "     |      \n",
            "     |      mu is the mean angle, expressed in radians between 0 and 2*pi, and\n",
            "     |      kappa is the concentration parameter, which must be greater than or\n",
            "     |      equal to zero.  If kappa is equal to zero, this distribution reduces\n",
            "     |      to a uniform random angle over the range 0 to 2*pi.\n",
            "     |  \n",
            "     |  weibullvariate(self, alpha, beta)\n",
            "     |      Weibull distribution.\n",
            "     |      \n",
            "     |      alpha is the scale parameter and beta is the shape parameter.\n",
            "     |  \n",
            "     |  ----------------------------------------------------------------------\n",
            "     |  Class methods inherited from Random:\n",
            "     |  \n",
            "     |  __init_subclass__(**kwargs)\n",
            "     |      Control how subclasses generate random integers.\n",
            "     |      \n",
            "     |      The algorithm a subclass can use depends on the random() and/or\n",
            "     |      getrandbits() implementation available to it and determines\n",
            "     |      whether it can generate random integers from arbitrarily large\n",
            "     |      ranges.\n",
            "     |  \n",
            "     |  ----------------------------------------------------------------------\n",
            "     |  Data descriptors inherited from Random:\n",
            "     |  \n",
            "     |  __dict__\n",
            "     |      dictionary for instance variables\n",
            "     |  \n",
            "     |  __weakref__\n",
            "     |      list of weak references to the object\n",
            "     |  \n",
            "     |  ----------------------------------------------------------------------\n",
            "     |  Data and other attributes inherited from Random:\n",
            "     |  \n",
            "     |  VERSION = 3\n",
            "     |  \n",
            "     |  ----------------------------------------------------------------------\n",
            "     |  Static methods inherited from _random.Random:\n",
            "     |  \n",
            "     |  __new__(*args, **kwargs) class method of _random.Random\n",
            "     |      Create and return a new object.  See help(type) for accurate signature.\n",
            "\n",
            "FUNCTIONS\n",
            "    betavariate(alpha, beta) method of Random instance\n",
            "        Beta distribution.\n",
            "        \n",
            "        Conditions on the parameters are alpha > 0 and beta > 0.\n",
            "        Returned values range between 0 and 1.\n",
            "    \n",
            "    choice(seq) method of Random instance\n",
            "        Choose a random element from a non-empty sequence.\n",
            "    \n",
            "    choices(population, weights=None, *, cum_weights=None, k=1) method of Random instance\n",
            "        Return a k sized list of population elements chosen with replacement.\n",
            "        \n",
            "        If the relative weights or cumulative weights are not specified,\n",
            "        the selections are made with equal probability.\n",
            "    \n",
            "    expovariate(lambd) method of Random instance\n",
            "        Exponential distribution.\n",
            "        \n",
            "        lambd is 1.0 divided by the desired mean.  It should be\n",
            "        nonzero.  (The parameter would be called \"lambda\", but that is\n",
            "        a reserved word in Python.)  Returned values range from 0 to\n",
            "        positive infinity if lambd is positive, and from negative\n",
            "        infinity to 0 if lambd is negative.\n",
            "    \n",
            "    gammavariate(alpha, beta) method of Random instance\n",
            "        Gamma distribution.  Not the gamma function!\n",
            "        \n",
            "        Conditions on the parameters are alpha > 0 and beta > 0.\n",
            "        \n",
            "        The probability distribution function is:\n",
            "        \n",
            "                    x ** (alpha - 1) * math.exp(-x / beta)\n",
            "          pdf(x) =  --------------------------------------\n",
            "                      math.gamma(alpha) * beta ** alpha\n",
            "    \n",
            "    gauss(mu=0.0, sigma=1.0) method of Random instance\n",
            "        Gaussian distribution.\n",
            "        \n",
            "        mu is the mean, and sigma is the standard deviation.  This is\n",
            "        slightly faster than the normalvariate() function.\n",
            "        \n",
            "        Not thread-safe without a lock around calls.\n",
            "    \n",
            "    getrandbits(k, /) method of Random instance\n",
            "        getrandbits(k) -> x.  Generates an int with k random bits.\n",
            "    \n",
            "    getstate() method of Random instance\n",
            "        Return internal state; can be passed to setstate() later.\n",
            "    \n",
            "    lognormvariate(mu, sigma) method of Random instance\n",
            "        Log normal distribution.\n",
            "        \n",
            "        If you take the natural logarithm of this distribution, you'll get a\n",
            "        normal distribution with mean mu and standard deviation sigma.\n",
            "        mu can have any value, and sigma must be greater than zero.\n",
            "    \n",
            "    normalvariate(mu=0.0, sigma=1.0) method of Random instance\n",
            "        Normal distribution.\n",
            "        \n",
            "        mu is the mean, and sigma is the standard deviation.\n",
            "    \n",
            "    paretovariate(alpha) method of Random instance\n",
            "        Pareto distribution.  alpha is the shape parameter.\n",
            "    \n",
            "    randbytes(n) method of Random instance\n",
            "        Generate n random bytes.\n",
            "    \n",
            "    randint(a, b) method of Random instance\n",
            "        Return random integer in range [a, b], including both end points.\n",
            "    \n",
            "    random() method of Random instance\n",
            "        random() -> x in the interval [0, 1).\n",
            "    \n",
            "    randrange(start, stop=None, step=1) method of Random instance\n",
            "        Choose a random item from range(stop) or range(start, stop[, step]).\n",
            "        \n",
            "        Roughly equivalent to ``choice(range(start, stop, step))`` but\n",
            "        supports arbitrarily large ranges and is optimized for common cases.\n",
            "    \n",
            "    sample(population, k, *, counts=None) method of Random instance\n",
            "        Chooses k unique random elements from a population sequence.\n",
            "        \n",
            "        Returns a new list containing elements from the population while\n",
            "        leaving the original population unchanged.  The resulting list is\n",
            "        in selection order so that all sub-slices will also be valid random\n",
            "        samples.  This allows raffle winners (the sample) to be partitioned\n",
            "        into grand prize and second place winners (the subslices).\n",
            "        \n",
            "        Members of the population need not be hashable or unique.  If the\n",
            "        population contains repeats, then each occurrence is a possible\n",
            "        selection in the sample.\n",
            "        \n",
            "        Repeated elements can be specified one at a time or with the optional\n",
            "        counts parameter.  For example:\n",
            "        \n",
            "            sample(['red', 'blue'], counts=[4, 2], k=5)\n",
            "        \n",
            "        is equivalent to:\n",
            "        \n",
            "            sample(['red', 'red', 'red', 'red', 'blue', 'blue'], k=5)\n",
            "        \n",
            "        To choose a sample from a range of integers, use range() for the\n",
            "        population argument.  This is especially fast and space efficient\n",
            "        for sampling from a large population:\n",
            "        \n",
            "            sample(range(10000000), 60)\n",
            "    \n",
            "    seed(a=None, version=2) method of Random instance\n",
            "        Initialize internal state from a seed.\n",
            "        \n",
            "        The only supported seed types are None, int, float,\n",
            "        str, bytes, and bytearray.\n",
            "        \n",
            "        None or no argument seeds from current time or from an operating\n",
            "        system specific randomness source if available.\n",
            "        \n",
            "        If *a* is an int, all bits are used.\n",
            "        \n",
            "        For version 2 (the default), all of the bits are used if *a* is a str,\n",
            "        bytes, or bytearray.  For version 1 (provided for reproducing random\n",
            "        sequences from older versions of Python), the algorithm for str and\n",
            "        bytes generates a narrower range of seeds.\n",
            "    \n",
            "    setstate(state) method of Random instance\n",
            "        Restore internal state from object returned by getstate().\n",
            "    \n",
            "    shuffle(x) method of Random instance\n",
            "        Shuffle list x in place, and return None.\n",
            "    \n",
            "    triangular(low=0.0, high=1.0, mode=None) method of Random instance\n",
            "        Triangular distribution.\n",
            "        \n",
            "        Continuous distribution bounded by given lower and upper limits,\n",
            "        and having a given mode value in-between.\n",
            "        \n",
            "        http://en.wikipedia.org/wiki/Triangular_distribution\n",
            "    \n",
            "    uniform(a, b) method of Random instance\n",
            "        Get a random number in the range [a, b) or [a, b] depending on rounding.\n",
            "    \n",
            "    vonmisesvariate(mu, kappa) method of Random instance\n",
            "        Circular data distribution.\n",
            "        \n",
            "        mu is the mean angle, expressed in radians between 0 and 2*pi, and\n",
            "        kappa is the concentration parameter, which must be greater than or\n",
            "        equal to zero.  If kappa is equal to zero, this distribution reduces\n",
            "        to a uniform random angle over the range 0 to 2*pi.\n",
            "    \n",
            "    weibullvariate(alpha, beta) method of Random instance\n",
            "        Weibull distribution.\n",
            "        \n",
            "        alpha is the scale parameter and beta is the shape parameter.\n",
            "\n",
            "DATA\n",
            "    __all__ = ['Random', 'SystemRandom', 'betavariate', 'choice', 'choices...\n",
            "\n",
            "FILE\n",
            "    /usr/lib/python3.11/random.py\n",
            "\n",
            "\n"
          ]
        }
      ]
    },
    {
      "cell_type": "code",
      "source": [
        "help(random.sample)"
      ],
      "metadata": {
        "colab": {
          "base_uri": "https://localhost:8080/"
        },
        "id": "U8R3P_dbe0w1",
        "outputId": "2d8949be-0786-4b77-e4dc-f614e0478821"
      },
      "execution_count": 16,
      "outputs": [
        {
          "output_type": "stream",
          "name": "stdout",
          "text": [
            "Help on method sample in module random:\n",
            "\n",
            "sample(population, k, *, counts=None) method of random.Random instance\n",
            "    Chooses k unique random elements from a population sequence.\n",
            "    \n",
            "    Returns a new list containing elements from the population while\n",
            "    leaving the original population unchanged.  The resulting list is\n",
            "    in selection order so that all sub-slices will also be valid random\n",
            "    samples.  This allows raffle winners (the sample) to be partitioned\n",
            "    into grand prize and second place winners (the subslices).\n",
            "    \n",
            "    Members of the population need not be hashable or unique.  If the\n",
            "    population contains repeats, then each occurrence is a possible\n",
            "    selection in the sample.\n",
            "    \n",
            "    Repeated elements can be specified one at a time or with the optional\n",
            "    counts parameter.  For example:\n",
            "    \n",
            "        sample(['red', 'blue'], counts=[4, 2], k=5)\n",
            "    \n",
            "    is equivalent to:\n",
            "    \n",
            "        sample(['red', 'red', 'red', 'red', 'blue', 'blue'], k=5)\n",
            "    \n",
            "    To choose a sample from a range of integers, use range() for the\n",
            "    population argument.  This is especially fast and space efficient\n",
            "    for sampling from a large population:\n",
            "    \n",
            "        sample(range(10000000), 60)\n",
            "\n"
          ]
        }
      ]
    },
    {
      "cell_type": "code",
      "source": [
        "# Sobre TYPE HINT:"
      ],
      "metadata": {
        "id": "RX6Id622e0q7"
      },
      "execution_count": 1,
      "outputs": []
    },
    {
      "cell_type": "markdown",
      "source": [
        "#Type Hint\n",
        "\n",
        "##Type Hint es una sintaxis utilizada en Python para indicar el tipo de dato esperado de un parámetro o el retorno de una función, ayudando en la legibilidad y mantenimiento del código. Podemos decir, en pocas palabras, que es una sugerencia de tipado de datos.\n",
        "\n",
        "formato:\n",
        "\n",
        "def < nombre>(< param>: < tipo_param>) -> < tipo_retorno>:\n",
        "  < instrucciones>\n",
        "  return resultado"
      ],
      "metadata": {
        "id": "mAYrCiK6F4qV"
      }
    },
    {
      "cell_type": "code",
      "source": [
        "#Aplicando esto a nuestro ejemplo de la función media(), podemos usar Type Hint\n",
        "#de la siguiente manera:\n",
        "\n",
        "# nuestra función recibe una lista del tipo list y retorna una variable del tipo float\n",
        "def media(lista: list) -> float:\n",
        "  calculo = sum(lista) / len(lista)\n",
        "  return calculo"
      ],
      "metadata": {
        "id": "I2QU3Y5de0lj"
      },
      "execution_count": 3,
      "outputs": []
    },
    {
      "cell_type": "code",
      "source": [
        "#Si escribimos la función media() en otra celda y pasamos el ratón por encima,\n",
        "#podemos observar la sugerencia de tipo de los parámetros de entrada\n",
        "#y salida de la función."
      ],
      "metadata": {
        "id": "i59qrpx7e0gH"
      },
      "execution_count": null,
      "outputs": []
    },
    {
      "cell_type": "markdown",
      "source": [
        "#Default Value\n",
        "\n",
        "##En Python, Default Value es un valor predeterminado asignado a un argumento de función que se utiliza si el usuario no proporciona ningún valor.\n",
        "\n",
        "Formato:\n",
        "\n",
        "< nombre_variable->: < tipo_variable> = < valor_variable>"
      ],
      "metadata": {
        "id": "gr3YvcXxGpkp"
      }
    },
    {
      "cell_type": "code",
      "source": [
        "#Extendiendo nuestra función media(), podemos usar el valor predeterminado de la siguiente manera:\n",
        "\n",
        "\n",
        "# nuestra función recibe una lista del tipo list y retorna una variable del tipo float\n",
        "# si no recibe ningún valor de parámetro, se pasará una lista con un único\n",
        "# elemento, siendo este cero\n",
        "def media(lista: list=[0]) -> float:\n",
        "  calculo = sum(lista) / len(lista)\n",
        "  return calculo"
      ],
      "metadata": {
        "id": "OH33YLJHe0aO"
      },
      "execution_count": 4,
      "outputs": []
    },
    {
      "cell_type": "markdown",
      "source": [
        "De la misma manera que hicimos con Type Hint, si escribimos la función media() en otra celda y pasamos el ratón por encima, podemos observar la sugerencia de tipo de los parámetros de entrada y salida de la función, así como el valor predeterminado para nuestra lista si el usuario no proporciona ningún valor durante la ejecución.\n",
        "\n",
        "Si ejecutamos la función media, esta será la salida:"
      ],
      "metadata": {
        "id": "N1LmjJZlIWuP"
      }
    },
    {
      "cell_type": "markdown",
      "source": [
        "#Docstring\n",
        "\n",
        "##Finalmente, tenemos el Docstring, que es una cadena literal utilizada para documentar módulos, funciones, clases o métodos en Python. Se coloca como el primer elemento de la definición y se puede acceder utilizando la función help().\n",
        "\n",
        "##El Docstring debe describir el propósito, los parámetros, el tipo de retorno y las excepciones que puede generar la función. Es una buena práctica de programación utilizar Docstrings en tu código para facilitar la lectura, el mantenimiento y el intercambio de código con otros desarrolladores.\n",
        "\n",
        "Formato:\n",
        "\n",
        "def < nombre>(< param_1>, < param_2>, ..., < param_n>):\n",
        "    '''Texto documentando su función...\n",
        "    '''\n",
        "  < instrucciones>\n",
        "  return resultado"
      ],
      "metadata": {
        "id": "UbSH54imIZUQ"
      }
    },
    {
      "cell_type": "code",
      "source": [
        "# Concluyendo la implementación de nuestra función media(), podemos usar el Docstring de la siguiente manera:"
      ],
      "metadata": {
        "id": "uw4CfuQie0Uo"
      },
      "execution_count": 5,
      "outputs": []
    },
    {
      "cell_type": "code",
      "source": [
        "def media(lista: list=[0]) -> float:\n",
        "  '''Función para calcular la media de notas pasadas por una lista\n",
        "\n",
        "  lista: list, default [0]\n",
        "    Lista con las notas para calcular la media\n",
        "  return = calculo: float\n",
        "    Media calculada\n",
        "  '''\n",
        "  calculo = sum(lista) / len(lista)\n",
        "  return calculo"
      ],
      "metadata": {
        "id": "Cx-6Nl4Pe0PF"
      },
      "execution_count": 6,
      "outputs": []
    },
    {
      "cell_type": "code",
      "source": [
        "# Si ejecutamos el código help(media) en otra celda, obtenemos la siguiente salida:"
      ],
      "metadata": {
        "id": "ummmBLp2e0Jl"
      },
      "execution_count": 7,
      "outputs": []
    },
    {
      "cell_type": "code",
      "source": [
        "'''Help on function media in module __main__:\n",
        "\n",
        "media(lista: list = [0]) -> float\n",
        "    Función para calcular la media de notas pasadas por una lista\n",
        "\n",
        "    lista: list, default [0]\n",
        "      Lista con las notas para calcular la media\n",
        "    return = calculo: float\n",
        "      Media calculada'''"
      ],
      "metadata": {
        "id": "Hiq45TA3e0D8",
        "colab": {
          "base_uri": "https://localhost:8080/",
          "height": 54
        },
        "outputId": "1fe7aa5e-7483-4e98-8901-72dd4ba53a43"
      },
      "execution_count": 9,
      "outputs": [
        {
          "output_type": "execute_result",
          "data": {
            "text/plain": [
              "'Help on function media in module __main__:\\n\\nmedia(lista: list = [0]) -> float\\n    Función para calcular la media de notas pasadas por una lista\\n\\n    lista: list, default [0]\\n      Lista con las notas para calcular la media\\n    return = calculo: float\\n      Media calculada'"
            ],
            "application/vnd.google.colaboratory.intrinsic+json": {
              "type": "string"
            }
          },
          "metadata": {},
          "execution_count": 9
        }
      ]
    },
    {
      "cell_type": "code",
      "source": [],
      "metadata": {
        "id": "LUTpSQwVez-A"
      },
      "execution_count": null,
      "outputs": []
    },
    {
      "cell_type": "markdown",
      "source": [
        "- - -\n",
        "- - -\n",
        "##Convirtiendo temperaturas:\n",
        "\n",
        "En la clase de programación, la estudiante Milena recibió la tarea de convertir una lista de temperaturas de grados Celsius a Fahrenheit. Al investigar cómo realizar la conversión, notó que era posible crear una función lambda para convertir las temperaturas, pero necesitaría utilizar la función incorporada map() para ayudarla en la conversión elemento por elemento.\n",
        "\n",
        "La conversión de temperaturas Celsius a Fahrenheit se puede describir de la siguiente manera:"
      ],
      "metadata": {
        "id": "VrHA2yq0JM19"
      }
    },
    {
      "cell_type": "code",
      "source": [
        "#temp_fahrenheit = temp_celsius * 9/5 + 32"
      ],
      "metadata": {
        "id": "Vy632ac-ez3W"
      },
      "execution_count": 11,
      "outputs": []
    },
    {
      "cell_type": "markdown",
      "source": [
        "¿Cuál de las siguientes opciones puede construir Milena para realizar su mapeo de valores, generando una lista de temperaturas en grados Fahrenheit (temp_fahrenheit) a partir de una lista de temperaturas en grados Celsius (temp_celsius) y mostrar la lista generada en la consola?\n"
      ],
      "metadata": {
        "id": "cEwTzW15KTSt"
      }
    },
    {
      "cell_type": "code",
      "source": [
        "temp_celsius = [0, 25, 37, 78, 100]\n",
        "temp_fahrenheit = list(map(lambda x: (x * 9/5) + 32, temp_celsius))\n",
        "temp_fahrenheit"
      ],
      "metadata": {
        "id": "KoQw5UBjezxM",
        "colab": {
          "base_uri": "https://localhost:8080/"
        },
        "outputId": "0cf4e4bf-a2a7-4b6c-d45f-7e8a0de6dff7"
      },
      "execution_count": 12,
      "outputs": [
        {
          "output_type": "execute_result",
          "data": {
            "text/plain": [
              "[32.0, 77.0, 98.6, 172.4, 212.0]"
            ]
          },
          "metadata": {},
          "execution_count": 12
        }
      ]
    },
    {
      "cell_type": "markdown",
      "source": [
        "---\n",
        "---\n",
        "---\n",
        "# Resumen de LAMBDA, MAP por Luri:\n",
        "\n",
        "¡Hola! Para resolver este ejercicio, aquí tienes algunos puntos clave que debes dominar:\n",
        "\n",
        "1.-Funciones Lambda: Entender cómo se definen y utilizan las funciones lambda en Python, especialmente para operaciones simples.\n",
        "\n",
        "2.-Función map(): Saber cómo usar la función map() para aplicar una función a cada elemento de una lista.\n",
        "\n",
        "3.-Conversión de Temperaturas: Familiarizarte con la fórmula de conversión de Celsius a Fahrenheit y cómo implementarla en una función lambda.\n",
        "\n",
        "4.-Listas: Conocer cómo trabajar con listas en Python y cómo convertir el resultado de map() en una lista.\n",
        "\n",
        "---\n",
        "\n",
        "¡Claro! Vamos a usar ejemplos de comida para ilustrar los puntos 1 y 2.\n",
        "\n",
        "1. Funciones Lambda\n",
        "Imagina que tienes una lista de precios de diferentes platos en un restaurante y quieres aplicar un descuento del 10%. Puedes usar una función lambda para calcular el precio con descuento."
      ],
      "metadata": {
        "id": "F_tcUOzOMORp"
      }
    },
    {
      "cell_type": "code",
      "source": [
        "precios = [100, 200, 300, 400]\n",
        "descuento = lambda x: x * 0.9  # Función lambda que aplica un 10% de descuento\n",
        "precios_con_descuento = list(map(descuento, precios))\n",
        "print(precios_con_descuento)  # Esto mostrará los precios con descuento"
      ],
      "metadata": {
        "id": "3KBHj6b5ezrg",
        "colab": {
          "base_uri": "https://localhost:8080/"
        },
        "outputId": "24a4b31b-1cdc-4e4a-f6bd-3d9438839a69"
      },
      "execution_count": 13,
      "outputs": [
        {
          "output_type": "stream",
          "name": "stdout",
          "text": [
            "[90.0, 180.0, 270.0, 360.0]\n"
          ]
        }
      ]
    },
    {
      "cell_type": "markdown",
      "source": [
        "  2.. Función map()\n",
        "Ahora, si quieres convertir los precios de los platos en euros a dólares (suponiendo que 1 euro = 1.2 dólares), puedes usar map() con una función lambda."
      ],
      "metadata": {
        "id": "fzI0eYV4NM1L"
      }
    },
    {
      "cell_type": "code",
      "source": [
        "precios_euros = [10, 20, 30, 40]\n",
        "conversion_dolares = lambda x: x * 1.2  # Función lambda para convertir euros a dólares\n",
        "precios_dolares = list(map(conversion_dolares, precios_euros))\n",
        "print(precios_dolares)  # Esto mostrará los precios en dólares"
      ],
      "metadata": {
        "id": "DTuwhOyFezlU",
        "colab": {
          "base_uri": "https://localhost:8080/"
        },
        "outputId": "f184fa17-a06d-4b3b-f05d-a99557e49212"
      },
      "execution_count": 14,
      "outputs": [
        {
          "output_type": "stream",
          "name": "stdout",
          "text": [
            "[12.0, 24.0, 36.0, 48.0]\n"
          ]
        }
      ]
    },
    {
      "cell_type": "markdown",
      "source": [
        "---\n",
        "---\n",
        "\n",
        "#La función map() no es exclusiva para datos de tipo float. Puedes usar map() con cualquier tipo de dato en una lista, como enteros, cadenas, listas de objetos, etc.\n",
        "\n",
        "#Por ejemplo, si tienes una lista de nombres de platos y quieres convertirlos a mayúsculas, también puedes usar map():"
      ],
      "metadata": {
        "id": "XYEoEbtdODkq"
      }
    },
    {
      "cell_type": "code",
      "source": [
        "platos = [\"pizza\", \"pasta\", \"ensalada\"]\n",
        "platos_mayusculas = list(map(lambda x: x.upper(), platos))\n",
        "print(platos_mayusculas)  # Esto mostrará ['PIZZA', 'PASTA', 'ENSALADA']"
      ],
      "metadata": {
        "id": "R5H-N04Cezfx",
        "colab": {
          "base_uri": "https://localhost:8080/"
        },
        "outputId": "479ad410-7180-4278-82ed-39e48468fad9"
      },
      "execution_count": 15,
      "outputs": [
        {
          "output_type": "stream",
          "name": "stdout",
          "text": [
            "['PIZZA', 'PASTA', 'ENSALADA']\n"
          ]
        }
      ]
    },
    {
      "cell_type": "markdown",
      "source": [
        "#Las funciones lambda no se limitan solo a listas que contienen números. Puedes usar funciones lambda con cualquier tipo de dato, incluyendo cadenas, listas de objetos, booleanos, etc.\n",
        "\n",
        "#Por ejemplo, si tienes una lista de frutas y quieres obtener la longitud de cada nombre de fruta, puedes usar una función lambda:"
      ],
      "metadata": {
        "id": "ImI5R30uOqVN"
      }
    },
    {
      "cell_type": "code",
      "source": [
        "frutas = [\"manzana\", \"banana\", \"cereza\"]\n",
        "longitudes = list(map(lambda x: len(x), frutas))\n",
        "print(longitudes)  # Esto mostrará [7, 6, 6]"
      ],
      "metadata": {
        "id": "FHitUdC4ezZz",
        "colab": {
          "base_uri": "https://localhost:8080/"
        },
        "outputId": "a05ce688-7fc8-4712-edd5-6b18301f222a"
      },
      "execution_count": 16,
      "outputs": [
        {
          "output_type": "stream",
          "name": "stdout",
          "text": [
            "[7, 6, 6]\n"
          ]
        }
      ]
    },
    {
      "cell_type": "markdown",
      "source": [
        "#Resumen && platica con Luri:\n",
        "\n",
        "##Funciones Lambda: Son funciones anónimas que puedes usar para realizar operaciones simples. No están limitadas a listas, puedes usarlas en cualquier lugar donde necesites una función rápida y sencilla.\n",
        "\n",
        "##Función map(): Se utiliza para aplicar una función (que puede ser una función lambda o cualquier otra función) a cada elemento de un iterable, como una lista. map() devuelve un objeto que contiene los resultados de aplicar la función a cada elemento.\n",
        "\n",
        "##Así que puedes usar una función lambda dentro de map() para operar sobre cada elemento de una lista, pero las funciones lambda también pueden ser utilizadas de forma independiente en otros contextos.\n",
        "\n",
        "\"Si en las funciones simples se ha utilizado lambda (por ejemplo)... en el campo de análisi de datos, podrían usarse por ejemplo para leer un archivo? o para buscar valores faltantes? o en qué se podría utilizar? (y map)?\"\n",
        "\n",
        "##¡Exactamente! Las funciones lambda y map() son muy útiles en el análisis de datos. Aquí te dejo algunos ejemplos de cómo podrías usarlas en diferentes contextos:\n",
        "\n",
        "##1.- Leer un archivo: Si estás leyendo un archivo CSV y quieres procesar los datos, puedes usar funciones lambda para limpiar o transformar los datos. Por ejemplo, si tienes una columna de precios y quieres convertirlos a un formato específico:\n"
      ],
      "metadata": {
        "id": "ITyCBmBzPhQP"
      }
    },
    {
      "cell_type": "code",
      "source": [
        "import pandas as pd\n",
        "\n",
        "#df = pd.read_csv('datos.csv')\n",
        "#df['precio'] = df['precio'].map(lambda x: round(x, 2))  # Redondear precios a 2 decimales"
      ],
      "metadata": {
        "id": "54jEs45nezT2"
      },
      "execution_count": 19,
      "outputs": []
    },
    {
      "cell_type": "markdown",
      "source": [
        "##2.- Buscar valores faltantes: Puedes usar funciones lambda para identificar o reemplazar valores faltantes en un conjunto de datos. Por ejemplo, si quieres reemplazar valores nulos con la media de la columna:"
      ],
      "metadata": {
        "id": "i1NYaYiYQy5m"
      }
    },
    {
      "cell_type": "code",
      "source": [
        "#media = df['columna'].mean()\n",
        "#df['columna'] = df['columna'].fillna(df['columna'].map(lambda x: media if pd.isnull(x) else x))"
      ],
      "metadata": {
        "id": "9gtkDVVSQhec"
      },
      "execution_count": 21,
      "outputs": []
    },
    {
      "cell_type": "markdown",
      "source": [
        "##3.-Transformar datos: Si tienes una lista de datos y quieres aplicar una transformación a cada elemento, como normalizar valores o aplicar una función matemática:"
      ],
      "metadata": {
        "id": "5EEgpKXtQ9vl"
      }
    },
    {
      "cell_type": "code",
      "source": [
        "datos = [10, 20, 30, 40]\n",
        "datos_normalizados = list(map(lambda x: (x - min(datos)) / (max(datos) - min(datos)), datos))"
      ],
      "metadata": {
        "id": "uEqfTAYjQhY4"
      },
      "execution_count": 22,
      "outputs": []
    },
    {
      "cell_type": "markdown",
      "source": [
        "##Filtrar datos: Aunque filter() es más común para filtrar, puedes usar map() con una función lambda para transformar y luego filtrar datos en una sola línea.\n",
        "\n",
        "##Estos son solo algunos ejemplos de cómo puedes aplicar funciones lambda y map() en el análisis de datos. ¡Sigue explorando y aprendiendo! Si tienes más preguntas, aquí estoy para ayudarte. 😊📊\n",
        "\n",
        "\"Cuándo debo usar una función DEF o una lambda?\"\n",
        "\n",
        "##Esa es una excelente pregunta. Aquí hay algunas pautas que te pueden ayudar a decidir cuándo usar una función propia (definida con def) y cuándo usar una función lambda:Usa una función propia cuando:\n",
        "\n",
        "##Complejidad: Si la lógica que necesitas implementar es compleja o requiere varias líneas de código, es mejor definir una función propia. Esto mejora la legibilidad y el mantenimiento del código.\n",
        "\n",
        "##Reutilización: Si planeas usar la misma función en diferentes partes de tu código o en diferentes proyectos, es mejor definirla como una función propia.\n",
        "\n",
        "##Documentación: Si necesitas documentar la función con comentarios o docstrings para que otros (o tú mismo en el futuro) entiendan su propósito, es mejor usar una función propia.\n",
        "\n",
        "##Parámetros múltiples: Si necesitas manejar múltiples parámetros de manera más clara, una función propia puede ser más adecuada.\n",
        "\n",
        "#Usa una función lambda cuando:\n",
        "\n",
        "##Simplicidad: Si la operación que necesitas realizar es simple y se puede expresar en una sola línea, una función lambda es perfecta.\n",
        "\n",
        "##Uso temporal: Si solo necesitas la función en un contexto específico y no planeas reutilizarla, una función lambda puede ser más conveniente.\n",
        "\n",
        "##Uso con funciones de orden superior: Cuando estás utilizando funciones como map(), filter(), o sorted(), y la operación es simple, las funciones lambda son muy útiles.\n",
        "\n",
        "##Legibilidad: A veces, usar una lambda puede hacer que el código sea más conciso y fácil de leer, siempre que no comprometa la claridad.\n",
        "\n",
        "😊✨\n",
        "\n",
        "Aparte:\n",
        "Un docstring (o \"document string\") es una cadena de documentación que se utiliza para describir el propósito y el funcionamiento de una función, clase o módulo en Python. Se coloca justo al inicio de la definición de la función y se utiliza para documentar lo que hace la función, sus parámetros, el valor de retorno y cualquier otra información relevante.\n",
        "\n",
        "Aquí tienes un ejemplo de cómo se ve un docstring:"
      ],
      "metadata": {
        "id": "OeKVF3zkRJrT"
      }
    },
    {
      "cell_type": "code",
      "source": [
        "def suma(a, b):\n",
        "    \"\"\"\n",
        "    Esta función suma dos números.\n",
        "\n",
        "    Parámetros:\n",
        "    a (int o float): El primer número.\n",
        "    b (int o float): El segundo número.\n",
        "\n",
        "    Retorna:\n",
        "    int o float: La suma de a y b.\n",
        "    \"\"\"\n",
        "    return a + b"
      ],
      "metadata": {
        "id": "534HvpTVQhU5"
      },
      "execution_count": 23,
      "outputs": []
    },
    {
      "cell_type": "markdown",
      "source": [
        "En este ejemplo, el docstring explica qué hace la función suma, qué parámetros recibe y qué valor retorna. Los docstrings son muy útiles para que otros programadores (o tú mismo en el futuro) entiendan rápidamente cómo usar la función sin tener que leer todo el código.\n",
        "\n",
        "Además, puedes acceder a los docstrings de una función utilizando la función help() o el atributo __doc__, lo que facilita la documentación y el aprendizaje sobre el código.\n",
        "\n"
      ],
      "metadata": {
        "id": "hjOcbvaqTRUw"
      }
    },
    {
      "cell_type": "code",
      "source": [
        "# E J E R C I C I O S:"
      ],
      "metadata": {
        "id": "zH04sw4nQhQ6"
      },
      "execution_count": 24,
      "outputs": []
    },
    {
      "cell_type": "code",
      "source": [
        "'''\n",
        "Calentamiento\n",
        "\n",
        "1 - Escribe un código que lee la lista siguiente y realiza:\n",
        "\n",
        "'''"
      ],
      "metadata": {
        "colab": {
          "base_uri": "https://localhost:8080/",
          "height": 36
        },
        "id": "ANRRvOwBQhMz",
        "outputId": "d01d2b3a-eafb-4958-f531-1b384411b9d3"
      },
      "execution_count": 25,
      "outputs": [
        {
          "output_type": "execute_result",
          "data": {
            "text/plain": [
              "'\\nCalentamiento\\n\\n1 - Escribe un código que lee la lista siguiente y realiza:\\n\\n'"
            ],
            "application/vnd.google.colaboratory.intrinsic+json": {
              "type": "string"
            }
          },
          "metadata": {},
          "execution_count": 25
        }
      ]
    },
    {
      "cell_type": "code",
      "source": [
        "lista = [16, 14, 63, 65, 17, 99, 70, 11, 20, 48, 79, 32, 17, 89, 12, 25, 66]\n",
        "# 1. Leer el tamaño de la lista\n",
        "# 2. Leer el valor máximo y mínimo\n",
        "# 3. Calcular la suma de los valores de la lista\n",
        "# 4. Mostrar un mensaje al final: La lista tiene `tamano` números, donde el mayor\n",
        "# es `mayor` y el menor es `menor`. La suma de los valores es `suma`."
      ],
      "metadata": {
        "id": "X_hka6bdQhJB"
      },
      "execution_count": 26,
      "outputs": []
    },
    {
      "cell_type": "code",
      "source": [
        "#respuesta\n",
        "\n",
        "lista = [16, 14, 63, 65, 17, 99, 70, 11, 20, 48, 79, 32, 17, 89, 12, 25, 66]\n",
        "\n",
        "# Leer el tamaño de la lista\n",
        "tam = len(lista)\n",
        "\n",
        "# Leer el valor máximo y mínimo\n",
        "mayor = max(lista)\n",
        "menor = min(lista)\n",
        "\n",
        "# Calcular la suma de los valores de la lista\n",
        "soma = sum(lista)\n",
        "\n",
        "# Mostrar un mensaje al final\n",
        "print(f\"La lista tiene {tam} números, donde el mayor es {mayor} y el menor es {menor}. La suma de los valores es {soma}\")"
      ],
      "metadata": {
        "colab": {
          "base_uri": "https://localhost:8080/"
        },
        "id": "lzOTUnhkVfVg",
        "outputId": "e81da8da-d4f5-469d-e8ab-f5b1cfe78135"
      },
      "execution_count": 42,
      "outputs": [
        {
          "output_type": "stream",
          "name": "stdout",
          "text": [
            "La lista tiene 17 números, donde el mayor es 99 y el menor es 11. La suma de los valores es 743\n"
          ]
        }
      ]
    },
    {
      "cell_type": "code",
      "source": [
        "'''\n",
        "2 - Escribe una función que genere la tabla de multiplicar de un número entero\n",
        "del 1 al 10, según la elección del usuario. Como ejemplo, para el número 7,\n",
        "la tabla de multiplicar se debe mostrar en el siguiente formato:\n",
        "'''"
      ],
      "metadata": {
        "id": "aIBOsUrFQhFB"
      },
      "execution_count": null,
      "outputs": []
    },
    {
      "cell_type": "code",
      "source": [
        "# Tabla del  7:\n",
        "# 7 x 0 = 0\n",
        "# 7 x 1 = 7\n",
        "# [...]\n",
        "# 7 x 10 = 70"
      ],
      "metadata": {
        "id": "ND306DIAQhBB"
      },
      "execution_count": 27,
      "outputs": []
    },
    {
      "cell_type": "code",
      "source": [
        "#respuesta\n",
        "\n",
        "def tabla_multiplicar(numero):\n",
        "    print(f\"Tabla de multiplicar del {numero}:\")\n",
        "    for i in range(11):\n",
        "        print(f\"{numero} x {i} = {numero * i}\")\n",
        "\n",
        "# Uso de la función\n",
        "tabla_multiplicar(7)"
      ],
      "metadata": {
        "colab": {
          "base_uri": "https://localhost:8080/"
        },
        "id": "MU1ytTn8V6ia",
        "outputId": "b8364568-ae31-4ae6-99ca-15fc2429805e"
      },
      "execution_count": 43,
      "outputs": [
        {
          "output_type": "stream",
          "name": "stdout",
          "text": [
            "Tabla de multiplicar del 7:\n",
            "7 x 0 = 0\n",
            "7 x 1 = 7\n",
            "7 x 2 = 14\n",
            "7 x 3 = 21\n",
            "7 x 4 = 28\n",
            "7 x 5 = 35\n",
            "7 x 6 = 42\n",
            "7 x 7 = 49\n",
            "7 x 8 = 56\n",
            "7 x 9 = 63\n",
            "7 x 10 = 70\n"
          ]
        }
      ]
    },
    {
      "cell_type": "code",
      "source": [
        "'''\n",
        "3 - Crea una función que lea la siguiente lista y devuelva una nueva\n",
        "lista con los múltiplos de 3:\n",
        "\n",
        "\n",
        "[97, 80, 94, 88, 80, 1, 16, 53, 62, 32, 24, 99]\n",
        "'''"
      ],
      "metadata": {
        "colab": {
          "base_uri": "https://localhost:8080/",
          "height": 36
        },
        "id": "xY-6ZkuSQg86",
        "outputId": "27f5018d-8dd9-4f87-be79-bdf4b5786446"
      },
      "execution_count": 44,
      "outputs": [
        {
          "output_type": "execute_result",
          "data": {
            "text/plain": [
              "'\\n3 - Crea una función que lea la siguiente lista y devuelva una nueva \\nlista con los múltiplos de 3:\\n\\n\\n[97, 80, 94, 88, 80, 1, 16, 53, 62, 32, 24, 99]\\n'"
            ],
            "application/vnd.google.colaboratory.intrinsic+json": {
              "type": "string"
            }
          },
          "metadata": {},
          "execution_count": 44
        }
      ]
    },
    {
      "cell_type": "code",
      "source": [
        "#respuesta:\n",
        "def multiplos_de_tres(lista):\n",
        "    return [num for num in lista if num % 3 == 0]\n",
        "\n",
        "# Uso de la función\n",
        "lista_original = [97, 80, 94, 88, 80, 1, 16, 53, 62, 32, 24, 99]\n",
        "mult_3 = multiplos_de_tres(lista_original)\n",
        "print(mult_3)\n"
      ],
      "metadata": {
        "colab": {
          "base_uri": "https://localhost:8080/"
        },
        "id": "-6cebz-jW8h0",
        "outputId": "0e62e6da-8c81-4af6-ff3b-c7f8486ea32e"
      },
      "execution_count": 46,
      "outputs": [
        {
          "output_type": "stream",
          "name": "stdout",
          "text": [
            "[24, 99]\n"
          ]
        }
      ]
    },
    {
      "cell_type": "code",
      "source": [
        "'''\n",
        "4 - Crea una lista de los cuadrados de los números de la siguiente lista\n",
        " [1, 2, 3, 4, 5, 6, 7, 8, 9, 10]. Recuerda utilizar las funciones lambda y map()\n",
        "  para calcular el cuadrado de cada elemento de la lista.\n",
        "  '''"
      ],
      "metadata": {
        "colab": {
          "base_uri": "https://localhost:8080/",
          "height": 54
        },
        "id": "Ro0wYxwRQg4v",
        "outputId": "74e6212b-dc7e-4100-ab64-a1420a960daf"
      },
      "execution_count": 30,
      "outputs": [
        {
          "output_type": "execute_result",
          "data": {
            "text/plain": [
              "'\\n4 - Crea una lista de los cuadrados de los números de la siguiente lista\\n [1, 2, 3, 4, 5, 6, 7, 8, 9, 10]. Recuerda utilizar las funciones lambda y map()\\n  para calcular el cuadrado de cada elemento de la lista.\\n  '"
            ],
            "application/vnd.google.colaboratory.intrinsic+json": {
              "type": "string"
            }
          },
          "metadata": {},
          "execution_count": 30
        }
      ]
    },
    {
      "cell_type": "code",
      "source": [
        "#Respuesta\n",
        "\n",
        "numeros = [1, 2, 3, 4, 5, 6, 7, 8, 9, 10]\n",
        "cuadrados = list(map(lambda x: x**2, numeros))\n",
        "print(cuadrados)"
      ],
      "metadata": {
        "colab": {
          "base_uri": "https://localhost:8080/"
        },
        "id": "lpt4Bp11WgvE",
        "outputId": "893b1393-346d-4306-94db-0d0f2a9086ba"
      },
      "execution_count": 45,
      "outputs": [
        {
          "output_type": "stream",
          "name": "stdout",
          "text": [
            "[1, 4, 9, 16, 25, 36, 49, 64, 81, 100]\n"
          ]
        }
      ]
    },
    {
      "cell_type": "code",
      "source": [
        "#Aplicando a proyectos"
      ],
      "metadata": {
        "id": "BS8QuPrEQg0b"
      },
      "execution_count": 31,
      "outputs": []
    },
    {
      "cell_type": "code",
      "source": [
        "'''\n",
        "5 - Has sido contratado como científico(a) de datos de una asociación de skate.\n",
        "Para analizar las notas recibidas por los skaters en algunas competiciones a\n",
        "lo largo del año, necesitas crear un código que calcule la puntuación de\n",
        "los atletas. Para ello, tu código debe recibir 5 notas ingresadas por los jueces.\n",
        "'''"
      ],
      "metadata": {
        "colab": {
          "base_uri": "https://localhost:8080/",
          "height": 54
        },
        "id": "RwGYosLYQgwF",
        "outputId": "7d7e1c9e-5d7f-4d49-83ce-76d648bcaee4"
      },
      "execution_count": 32,
      "outputs": [
        {
          "output_type": "execute_result",
          "data": {
            "text/plain": [
              "'\\n5 - Has sido contratado como científico(a) de datos de una asociación de skate. \\nPara analizar las notas recibidas por los skaters en algunas competiciones a \\nlo largo del año, necesitas crear un código que calcule la puntuación de \\nlos atletas. Para ello, tu código debe recibir 5 notas ingresadas por los jueces.\\n'"
            ],
            "application/vnd.google.colaboratory.intrinsic+json": {
              "type": "string"
            }
          },
          "metadata": {},
          "execution_count": 32
        }
      ]
    },
    {
      "cell_type": "code",
      "source": [
        "# Respuesta\n",
        "\n",
        "notas = [float(input(f\"Ingrese la nota {i + 1}: \")) for i in range(5)]\n",
        "notas.sort()\n",
        "media = sum(notas[1:4]) / 3\n",
        "print(f\"Nota de la maniobra: {media:.2f}\")"
      ],
      "metadata": {
        "colab": {
          "base_uri": "https://localhost:8080/"
        },
        "id": "3b-uiqPuXN9y",
        "outputId": "89b1eb89-8e3d-4b19-c96e-d5ee352e876f"
      },
      "execution_count": 47,
      "outputs": [
        {
          "output_type": "stream",
          "name": "stdout",
          "text": [
            "Ingrese la nota 1: 7\n",
            "Ingrese la nota 2: 5\n",
            "Ingrese la nota 3: 8\n",
            "Ingrese la nota 4: 4\n",
            "Ingrese la nota 5: 6\n",
            "Nota de la maniobra: 6.00\n"
          ]
        }
      ]
    },
    {
      "cell_type": "code",
      "source": [
        "'''\n",
        "6 - Para cumplir con una demanda de una institución educativa para el análisis\n",
        " del rendimiento de sus estudiantes, necesitas crear una función que reciba\n",
        " una lista de 4 notas y devuelva:\n",
        " '''"
      ],
      "metadata": {
        "colab": {
          "base_uri": "https://localhost:8080/",
          "height": 36
        },
        "id": "PGLscG6vQgr_",
        "outputId": "2862c936-8d95-448a-b0bf-d88b71260834"
      },
      "execution_count": 33,
      "outputs": [
        {
          "output_type": "execute_result",
          "data": {
            "text/plain": [
              "'\\n6 - Para cumplir con una demanda de una institución educativa para el análisis\\n del rendimiento de sus estudiantes, necesitas crear una función que reciba \\n una lista de 4 notas y devuelva:\\n '"
            ],
            "application/vnd.google.colaboratory.intrinsic+json": {
              "type": "string"
            }
          },
          "metadata": {},
          "execution_count": 33
        }
      ]
    },
    {
      "cell_type": "code",
      "source": [
        "# mayor nota\n",
        "# menor nota\n",
        "# media\n",
        "# situación (Aprobado(a) o Reprobado(a))\n",
        "# Uso de la función\n",
        "# Mostrar: El estudiante obtuvo una media de `media`, con la mayor nota de `mayor` puntos y la menor nota de `menor` puntos y fue `situacion`.)"
      ],
      "metadata": {
        "id": "QQpn4ydHQgoJ"
      },
      "execution_count": 34,
      "outputs": []
    },
    {
      "cell_type": "code",
      "source": [
        "#respuesta:\n",
        "\n",
        "def analisis_notas(notas):\n",
        "    mayor = max(notas)\n",
        "    menor = min(notas)\n",
        "    media = sum(notas) / len(notas)\n",
        "    situacion = \"Aprobado\" if media >= 6 else \"Reprobado\"\n",
        "    return mayor, menor, media, situacion\n",
        "\n",
        "# Uso de la función\n",
        "notas_estudiante = [float(input(f\"Ingrese la nota {i + 1}: \")) for i in range(4)]\n",
        "resultado = analisis_notas(notas_estudiante)\n",
        "print(f\"El estudiante obtuvo una media de {resultado[2]:.2f}, con la mayor nota de {resultado[0]:.2f} puntos y la menor nota de {resultado[1]:.2f} puntos y fue {resultado[3]}\")"
      ],
      "metadata": {
        "colab": {
          "base_uri": "https://localhost:8080/"
        },
        "id": "PWIRhzrXXt1_",
        "outputId": "6b6c1b44-32f2-4d00-98d9-e6f03b1fbd91"
      },
      "execution_count": 48,
      "outputs": [
        {
          "output_type": "stream",
          "name": "stdout",
          "text": [
            "Ingrese la nota 1: 7\n",
            "Ingrese la nota 2: 6\n",
            "Ingrese la nota 3: 9\n",
            "Ingrese la nota 4: 0\n",
            "El estudiante obtuvo una media de 5.50, con la mayor nota de 9.00 puntos y la menor nota de 0.00 puntos y fue Reprobado\n"
          ]
        }
      ]
    },
    {
      "cell_type": "code",
      "source": [
        "'''\n",
        "7 - Has recibido una demanda para tratar 2 listas con los nombres y apellidos de\n",
        " cada estudiante concatenándolos para presentar sus nombres completos en la\n",
        " forma Nombre Apellido. Las listas son:\n",
        "'''"
      ],
      "metadata": {
        "colab": {
          "base_uri": "https://localhost:8080/",
          "height": 36
        },
        "id": "Q3nPX-k2QgkC",
        "outputId": "9a09879c-1fcf-4770-d428-49080551828b"
      },
      "execution_count": 35,
      "outputs": [
        {
          "output_type": "execute_result",
          "data": {
            "text/plain": [
              "'\\n7 - Has recibido una demanda para tratar 2 listas con los nombres y apellidos de\\n cada estudiante concatenándolos para presentar sus nombres completos en la \\n forma Nombre Apellido. Las listas son:\\n'"
            ],
            "application/vnd.google.colaboratory.intrinsic+json": {
              "type": "string"
            }
          },
          "metadata": {},
          "execution_count": 35
        }
      ]
    },
    {
      "cell_type": "code",
      "source": [
        "nombres = [\"juan\", \"MaRia\", \"JOSÉ\"]\n",
        "apellidos = [\"SILVA\", \"sosa\", \"Tavares\"]\n",
        "\n",
        "# Normalizar nombres y apellidos y crear una nueva lista con los nombres completos\n",
        "# Puedes apoyarte en la función map()"
      ],
      "metadata": {
        "id": "MPnRHiG9QggL"
      },
      "execution_count": 36,
      "outputs": []
    },
    {
      "cell_type": "code",
      "source": [
        "#resultado:\n",
        "\n",
        "nombres = [\"juan\", \"MaRia\", \"JOSÉ\"]\n",
        "sobrenombres = [\"SILVA\", \"sosa\", \"Tavares\"]\n",
        "\n",
        "# Normalizar nombres y apellidos y crear una nueva lista con los nombres completos\n",
        "nombres_normalizados = map(lambda x: x.capitalize(), nombres)\n",
        "sobrenombres_normalizados = map(lambda x: x.capitalize(), sobrenombres)\n",
        "nombres_completos = list(map(lambda x, y: f\"Nombre completo: {x} {y}\", nombres_normalizados, sobrenombres_normalizados))\n",
        "print(nombres_completos)"
      ],
      "metadata": {
        "colab": {
          "base_uri": "https://localhost:8080/"
        },
        "id": "GjLEtLNQYlJS",
        "outputId": "27d77162-061a-4ea0-f6ed-460c825c554e"
      },
      "execution_count": 49,
      "outputs": [
        {
          "output_type": "stream",
          "name": "stdout",
          "text": [
            "['Nombre completo: Juan Silva', 'Nombre completo: Maria Sosa', 'Nombre completo: José Tavares']\n"
          ]
        }
      ]
    },
    {
      "cell_type": "code",
      "source": [
        "'''\n",
        "8 - Como científico de datos en un equipo de fútbol, necesitas implementar\n",
        "nuevas formas de recopilación de datos sobre el rendimiento de los jugadores y\n",
        "del equipo en su conjunto. Tu primera acción es crear una forma de calcular la\n",
        " puntuación del equipo en el campeonato nacional a partir de los datos de goles\n",
        "  marcados y recibidos en cada juego.\n",
        "\n",
        "Escribe una función llamada calcula_puntos() que recibe como parámetros\n",
        "dos listas de números enteros, representando los goles marcados y recibidos\n",
        "por el equipo en cada partido del campeonato. La función debe devolver la\n",
        "puntuación del equipo y el rendimiento en porcentaje, teniendo en cuenta que\n",
        "la victoria vale 3 puntos, el empate 1 punto y la derrota 0 puntos.\n",
        "\n",
        "Nota: si la cantidad de goles marcados en un partido es mayor que los recibidos,\n",
        " el equipo ganó. En caso de ser igual, el equipo empató, y si es menor,\n",
        " el equipo perdió. Para calcular el rendimiento, debemos hacer la razón entre\n",
        " la puntuación del equipo y la puntuación máxima que podría recibir.\n",
        "\n",
        "Para la prueba, utiliza las siguientes listas de goles marcados y recibidos:\n",
        "'''"
      ],
      "metadata": {
        "colab": {
          "base_uri": "https://localhost:8080/",
          "height": 109
        },
        "id": "s9KQgXIOQgcI",
        "outputId": "b0664dc6-069c-4785-c249-e642f5020caf"
      },
      "execution_count": 37,
      "outputs": [
        {
          "output_type": "execute_result",
          "data": {
            "text/plain": [
              "'\\n8 - Como científico de datos en un equipo de fútbol, necesitas implementar \\nnuevas formas de recopilación de datos sobre el rendimiento de los jugadores y \\ndel equipo en su conjunto. Tu primera acción es crear una forma de calcular la\\n puntuación del equipo en el campeonato nacional a partir de los datos de goles\\n  marcados y recibidos en cada juego.\\n\\nEscribe una función llamada calcula_puntos() que recibe como parámetros \\ndos listas de números enteros, representando los goles marcados y recibidos \\npor el equipo en cada partido del campeonato. La función debe devolver la \\npuntuación del equipo y el rendimiento en porcentaje, teniendo en cuenta que \\nla victoria vale 3 puntos, el empate 1 punto y la derrota 0 puntos.\\n\\nNota: si la cantidad de goles marcados en un partido es mayor que los recibidos,\\n el equipo ganó. En caso de ser igual, el equipo empató, y si es menor, \\n el equipo perdió. Para calcular el rendimiento, debemos hacer la razón entre \\n la puntuación del equipo y la puntuación máxima que podría recibir.\\n\\nPara la prueba, utiliza las siguientes listas de goles marcados y recibidos:\\n'"
            ],
            "application/vnd.google.colaboratory.intrinsic+json": {
              "type": "string"
            }
          },
          "metadata": {},
          "execution_count": 37
        }
      ]
    },
    {
      "cell_type": "code",
      "source": [
        "goles_marcados = [2, 1, 3, 1, 0]\n",
        "goles_recibidos = [1, 2, 2, 1, 3]\n",
        "# Texto probablemente mostrado:\n",
        "# La puntuación del equipo fue `puntos` y su rendimiento fue `desempeno`%\""
      ],
      "metadata": {
        "id": "k8x3JWLQQgYp"
      },
      "execution_count": 38,
      "outputs": []
    },
    {
      "cell_type": "code",
      "source": [
        "#respuesta:\n",
        "\n",
        "goles_marcados = [2, 1, 3, 1, 0]\n",
        "goles_sofridos = [1, 2, 2, 1, 3]\n",
        "\n",
        "def calcula_puntos(goles_marcados, goles_sofridos):\n",
        "  puntos = 0\n",
        "  for i in range(len(goles_marcados)):\n",
        "    if goles_marcados[i] > goles_sofridos[i]:\n",
        "      puntos += 3\n",
        "    elif goles_marcados[i] == goles_sofridos[i]:\n",
        "      puntos += 1\n",
        "  aprob = 100 * puntos / (len(goles_marcados) * 3)\n",
        "  return (puntos, aprob)\n",
        "\n",
        "puntos, aprob = calcula_puntos(goles_marcados, goles_sofridos)\n",
        "print(f\"La puntuación del equipo fue de {puntos} y su rendimiento fue de {round(aprob)}%\")"
      ],
      "metadata": {
        "colab": {
          "base_uri": "https://localhost:8080/"
        },
        "id": "WLTFkYxKZbHE",
        "outputId": "cda22034-0cce-4e67-8f89-6e07ac7072d0"
      },
      "execution_count": 50,
      "outputs": [
        {
          "output_type": "stream",
          "name": "stdout",
          "text": [
            "La puntuación del equipo fue de 7 y su rendimiento fue de 47%\n"
          ]
        }
      ]
    },
    {
      "cell_type": "code",
      "source": [
        "'''\n",
        "9 - Te han desafiado a crear un código que calcule los gastos de un viaje a una\n",
        "de las cuatro ciudades desde Recife, siendo ellas:\n",
        "Salvador, Fortaleza, Natal y Aracaju.\n",
        "\n",
        "El costo diario del hotel es de 150 reales en todas ellas y el consumo de\n",
        "gasolina en el viaje en coche es de 14 km/l, siendo que el precio de la gasolina\n",
        " es de 5 reales por litro. Los gastos con paseos y alimentación a realizar en\n",
        " cada una de ellas por día serían [200, 400, 250, 300], respectivamente.\n",
        "\n",
        "Sabiendo que las distancias entre Recife y cada una de las ciudades son\n",
        "aproximadamente [850, 800, 300, 550] km, crea tres funciones: la primera\n",
        "función calcula los gastos de hotel (gasto_hotel), la segunda calcula los gastos\n",
        " de gasolina (gasto_gasolina) y la tercera los gastos de\n",
        " paseo y alimentación (gasto_paseo).\n",
        "\n",
        "Para probar, simula un viaje de 3 días a Salvador desde Recife. Considera\n",
        "el viaje de ida y vuelta en coche.\n",
        "\n",
        "'''"
      ],
      "metadata": {
        "colab": {
          "base_uri": "https://localhost:8080/",
          "height": 109
        },
        "id": "HDYPUA4QQgVo",
        "outputId": "f9658d19-034b-4ce1-de9e-d67ce3305a63"
      },
      "execution_count": 39,
      "outputs": [
        {
          "output_type": "execute_result",
          "data": {
            "text/plain": [
              "'\\n9 - Te han desafiado a crear un código que calcule los gastos de un viaje a una \\nde las cuatro ciudades desde Recife, siendo ellas: \\nSalvador, Fortaleza, Natal y Aracaju.\\n\\nEl costo diario del hotel es de 150 reales en todas ellas y el consumo de \\ngasolina en el viaje en coche es de 14 km/l, siendo que el precio de la gasolina\\n es de 5 reales por litro. Los gastos con paseos y alimentación a realizar en \\n cada una de ellas por día serían [200, 400, 250, 300], respectivamente.\\n\\nSabiendo que las distancias entre Recife y cada una de las ciudades son \\naproximadamente [850, 800, 300, 550] km, crea tres funciones: la primera \\nfunción calcula los gastos de hotel (gasto_hotel), la segunda calcula los gastos\\n de gasolina (gasto_gasolina) y la tercera los gastos de \\n paseo y alimentación (gasto_paseo).\\n\\nPara probar, simula un viaje de 3 días a Salvador desde Recife. Considera \\nel viaje de ida y vuelta en coche.\\n\\n'"
            ],
            "application/vnd.google.colaboratory.intrinsic+json": {
              "type": "string"
            }
          },
          "metadata": {},
          "execution_count": 39
        }
      ]
    },
    {
      "cell_type": "code",
      "source": [
        "# Texto probablemente mostrado:\n",
        "# Con base en los gastos definidos, un viaje de [dias] días a [ciudad] desde\n",
        "# Recife costaría [gastos] reales."
      ],
      "metadata": {
        "id": "oW9NSLgaQgTE"
      },
      "execution_count": 40,
      "outputs": []
    },
    {
      "cell_type": "code",
      "source": [
        "#respuesta\n",
        "\n",
        "dias = int(input(\"¿Cuántas diarias? \"))\n",
        "ciudad = input(\"¿Cuál es la ciudad? [Salvador, Fortaleza, Natal o Aracaju]: \")\n",
        "distancias = [850, 800, 300, 550]\n",
        "paseo = [200, 400, 250, 300]\n",
        "km_l = 14\n",
        "gasolina = 5\n",
        "\n",
        "def gasto_hotel(dias):\n",
        "    return 150 * dias\n",
        "\n",
        "def gasto_gasolina(ciudad):\n",
        "    if ciudad == \"Salvador\":\n",
        "        return (2 * distancias[0] * gasolina) / km_l\n",
        "    elif ciudad == \"Fortaleza\":\n",
        "        return (2 * distancias[1] * gasolina) / km_l\n",
        "    elif ciudad == \"Natal\":\n",
        "        return (2 * distancias[2] * gasolina) / km_l\n",
        "    elif ciudad == \"Aracaju\":\n",
        "        return (2 * distancias[3] * gasolina) / km_l\n",
        "\n",
        "def gasto_paseo(ciudad, dias):\n",
        "    if ciudad==\"Salvador\":\n",
        "        return paseo[0] * dias\n",
        "    elif ciudad==\"Fortaleza\":\n",
        "        return paseo[1] * dias\n",
        "    elif ciudad==\"Natal\":\n",
        "        return paseo[2] * dias\n",
        "    elif ciudad==\"Aracaju\":\n",
        "        return paseo[3] * dias\n",
        "\n",
        "gastos = gasto_hotel(dias) + gasto_gasolina(ciudad) + gasto_paseo(ciudad, dias)\n",
        "print(f\"Con base en los gastos definidos, un viaje de {dias} días a {ciudad} desde Recife costaría {round(gastos, 2)} reales\")"
      ],
      "metadata": {
        "colab": {
          "base_uri": "https://localhost:8080/"
        },
        "id": "EMcW8aUGaOmq",
        "outputId": "0213fadd-ed2b-4679-9fb9-86e92b82cf7a"
      },
      "execution_count": 51,
      "outputs": [
        {
          "output_type": "stream",
          "name": "stdout",
          "text": [
            "¿Cuántas diarias? 3\n",
            "¿Cuál es la ciudad? [Salvador, Fortaleza, Natal o Aracaju]: Natal\n",
            "Con base en los gastos definidos, un viaje de 3 días a Natal desde Recife costaría 1414.29 reales\n"
          ]
        }
      ]
    },
    {
      "cell_type": "code",
      "source": [
        "'''\n",
        "10 - Has comenzado una pasantía en una empresa que trabaja con procesamiento de\n",
        "lenguaje natural (NLP). Tu líder te solicitó que crees un fragmento de código\n",
        "que reciba una frase escrita por el usuario y filtre solo las palabras con un\n",
        "tamaño mayor o igual a 5, mostrándolas en una lista. Esta demanda se centra en\n",
        "el análisis del patrón de comportamiento de las personas al escribir palabras\n",
        "de esta cantidad de caracteres o más.\n",
        "\n",
        "Consejo: utiliza las funciones lambda y filter() para filtrar estas palabras.\n",
        "Recordando que la función integrada filter() recibe una función\n",
        "(en nuestro caso, una función lambda) y filtra un iterable según la función.\n",
        "Para tratar la frase, utiliza replace()\n",
        "para cambiar ',' '.', '!' y '?' por espacio.\n",
        "\n",
        "Utiliza la frase\n",
        " \"Aprender Python aquí en Alura es muy bueno\" para probar el código.\n",
        "'''"
      ],
      "metadata": {
        "colab": {
          "base_uri": "https://localhost:8080/",
          "height": 109
        },
        "id": "YrDT3EwMQgN0",
        "outputId": "995868a0-dbe7-4672-f74a-bd015e5317b7"
      },
      "execution_count": 41,
      "outputs": [
        {
          "output_type": "execute_result",
          "data": {
            "text/plain": [
              "'\\n10 - Has comenzado una pasantía en una empresa que trabaja con procesamiento de \\nlenguaje natural (NLP). Tu líder te solicitó que crees un fragmento de código \\nque reciba una frase escrita por el usuario y filtre solo las palabras con un \\ntamaño mayor o igual a 5, mostrándolas en una lista. Esta demanda se centra en \\nel análisis del patrón de comportamiento de las personas al escribir palabras \\nde esta cantidad de caracteres o más.\\n\\nConsejo: utiliza las funciones lambda y filter() para filtrar estas palabras. \\nRecordando que la función integrada filter() recibe una función \\n(en nuestro caso, una función lambda) y filtra un iterable según la función. \\nPara tratar la frase, utiliza replace() \\npara cambiar \\',\\' \\'.\\', \\'!\\' y \\'?\\' por espacio.\\n\\nUtiliza la frase\\n \"Aprender Python aquí en Alura es muy bueno\" para probar el código.\\n'"
            ],
            "application/vnd.google.colaboratory.intrinsic+json": {
              "type": "string"
            }
          },
          "metadata": {},
          "execution_count": 41
        }
      ]
    },
    {
      "cell_type": "code",
      "source": [
        "#respuesta\n",
        "\n",
        "# Solicitando una frase y separándola por espacios. Usando replace para cambiar\n",
        "# puntuaciones por espacios.\n",
        "frase = input(\"Escribe una frase: \")\n",
        "frase = frase.replace(',',' ').replace('.',' ').replace('!',' ').replace('?',' ').split()\n",
        "\n",
        "# Filtrando la frase en formato de lista, pasando a la lista tamaño\n",
        "# solo las palabras con 5 o más caracteres e imprimiéndola en pantalla\n",
        "tamano = list(filter(lambda x: len(x) >= 5, frase))\n",
        "print(tamano)"
      ],
      "metadata": {
        "colab": {
          "base_uri": "https://localhost:8080/"
        },
        "id": "3bNjuy8BQgKI",
        "outputId": "07820276-2278-4358-f2d1-6e3d0d458fc8"
      },
      "execution_count": 52,
      "outputs": [
        {
          "output_type": "stream",
          "name": "stdout",
          "text": [
            "Escribe una frase: Amo requetecontra mucho a Alura\n",
            "['requetecontra', 'mucho', 'Alura']\n"
          ]
        }
      ]
    },
    {
      "cell_type": "markdown",
      "source": [
        "Practicar es importante para fijar el contenido, desarrollar habilidades de programación, identificar puntos que aún no han sido comprendidos, prepararse para desafíos futuros y desarrollar pensamiento lógico y resolución de problemas.\n",
        "\n",
        "Pensando en esto, es importante hacer ejercicios cuando se está aprendiendo una nueva herramienta. Por lo tanto, busca practicar a través de los ejercicios propuestos y observa cómo esto puede ayudarte a progresar en tus habilidades en ciencia de datos.\n",
        "\n",
        "---\n",
        "---\n",
        "---"
      ],
      "metadata": {
        "id": "p9Y63aIKbVdX"
      }
    },
    {
      "cell_type": "markdown",
      "source": [
        "#Antes de seguir: Diferencia entre funciones con y sin parámetros de entrada. &&  funciones con y sin retorno de valores.\n",
        "\n",
        "##Funciones sin parámetros de entrada\n",
        "Una función sin parámetros de entrada es aquella que no recibe información externa cuando se llama. Por ejemplo, podríamos crear una función que simplemente imprima una receta de un plato."
      ],
      "metadata": {
        "id": "Tc4davEab0F-"
      }
    },
    {
      "cell_type": "code",
      "source": [
        "def receta_de_pasta():\n",
        "    print(\"Ingredientes para la pasta:\")\n",
        "    print(\"- 200g de pasta\")\n",
        "    print(\"- 1 litro de agua\")\n",
        "    print(\"- Sal al gusto\")"
      ],
      "metadata": {
        "id": "G_zP41dTQgGp"
      },
      "execution_count": 53,
      "outputs": []
    },
    {
      "cell_type": "code",
      "source": [
        "# Cuando llamas a receta_de_pasta(), simplemente se imprimirá la receta.\n",
        "receta_de_pasta()"
      ],
      "metadata": {
        "colab": {
          "base_uri": "https://localhost:8080/"
        },
        "id": "gZUXZWe8QgC6",
        "outputId": "f48affc7-83ac-4b3b-bf7f-40ac83dfcabb"
      },
      "execution_count": 54,
      "outputs": [
        {
          "output_type": "stream",
          "name": "stdout",
          "text": [
            "Ingredientes para la pasta:\n",
            "- 200g de pasta\n",
            "- 1 litro de agua\n",
            "- Sal al gusto\n"
          ]
        }
      ]
    },
    {
      "cell_type": "markdown",
      "source": [
        "##Funciones con parámetros de entrada\n",
        "Ahora, una función con parámetros de entrada puede recibir información cuando se llama. Por ejemplo, podríamos crear una función que calcule la cantidad de ingredientes necesarios para un número específico de porciones de una pizza."
      ],
      "metadata": {
        "id": "Fb-A_C5tcZTo"
      }
    },
    {
      "cell_type": "code",
      "source": [
        "def ingredientes_pizza(porciones):\n",
        "    masa = porciones * 200  # gramos de masa\n",
        "    salsa = porciones * 50   # gramos de salsa\n",
        "    queso = porciones * 100   # gramos de queso\n",
        "    print(f\"Para {porciones} porciones necesitas:\")\n",
        "    print(f\"- {masa}g de masa\")\n",
        "    print(f\"- {salsa}g de salsa\")\n",
        "    print(f\"- {queso}g de queso\")"
      ],
      "metadata": {
        "id": "uUKrfygAQf_a"
      },
      "execution_count": 55,
      "outputs": []
    },
    {
      "cell_type": "code",
      "source": [
        "# Al llamar a ingredientes_pizza(3), obtendrás la cantidad de ingredientes para 3 porciones.\n",
        "ingredientes_pizza(3)\n",
        "#también jala con:\n",
        "print(\"\")\n",
        "ingredientes_pizza(porciones=3)"
      ],
      "metadata": {
        "colab": {
          "base_uri": "https://localhost:8080/"
        },
        "id": "JFWguJHYQf8J",
        "outputId": "ab1d2b8c-210d-4d78-938a-1a262ed626c5"
      },
      "execution_count": 61,
      "outputs": [
        {
          "output_type": "stream",
          "name": "stdout",
          "text": [
            "Para 3 porciones necesitas:\n",
            "- 600g de masa\n",
            "- 150g de salsa\n",
            "- 300g de queso\n",
            "\n",
            "Para 3 porciones necesitas:\n",
            "- 600g de masa\n",
            "- 150g de salsa\n",
            "- 300g de queso\n"
          ]
        }
      ]
    },
    {
      "cell_type": "markdown",
      "source": [
        "##Funciones sin retorno de valores\n",
        "Las funciones que no retornan valores simplemente realizan una acción, como imprimir algo en la pantalla. El ejemplo de la receta de pasta es una función sin retorno.\n",
        "\n",
        "\n",
        "##Funciones con retorno de valores\n",
        "Por otro lado, una función con retorno de valores puede devolver un resultado que puedes usar más adelante. Por ejemplo, podríamos crear una función que calcule el total de calorías de un plato."
      ],
      "metadata": {
        "id": "Fgj6KMIVdXgS"
      }
    },
    {
      "cell_type": "code",
      "source": [
        "def calorias_pasta(porciones):\n",
        "    calorias_por_porcion = 300  # calorías por porción\n",
        "    total_calorias = porciones * calorias_por_porcion\n",
        "    return total_calorias"
      ],
      "metadata": {
        "id": "TbUJriu0Qf05"
      },
      "execution_count": 62,
      "outputs": []
    },
    {
      "cell_type": "code",
      "source": [
        "#Al llamar a calorias_pasta(2), obtendrás el total de calorías para 2 porciones.\n",
        "calorias_pasta(2)"
      ],
      "metadata": {
        "colab": {
          "base_uri": "https://localhost:8080/"
        },
        "id": "apRxJA73QfxJ",
        "outputId": "ba7d1c46-6763-4a55-82e6-34fb4fa9f496"
      },
      "execution_count": 63,
      "outputs": [
        {
          "output_type": "execute_result",
          "data": {
            "text/plain": [
              "600"
            ]
          },
          "metadata": {},
          "execution_count": 63
        }
      ]
    },
    {
      "cell_type": "code",
      "source": [],
      "metadata": {
        "id": "ApRKSDoIQftJ"
      },
      "execution_count": null,
      "outputs": []
    },
    {
      "cell_type": "code",
      "source": [],
      "metadata": {
        "id": "pnY9GfxPQfpC"
      },
      "execution_count": null,
      "outputs": []
    },
    {
      "cell_type": "code",
      "source": [],
      "metadata": {
        "id": "xwyZpfInQfke"
      },
      "execution_count": null,
      "outputs": []
    },
    {
      "cell_type": "code",
      "source": [],
      "metadata": {
        "id": "Zi54Dh3pQffb"
      },
      "execution_count": null,
      "outputs": []
    },
    {
      "cell_type": "code",
      "source": [],
      "metadata": {
        "id": "qechPyrLQfWx"
      },
      "execution_count": null,
      "outputs": []
    },
    {
      "cell_type": "code",
      "source": [],
      "metadata": {
        "id": "DCai38o3ezNt"
      },
      "execution_count": null,
      "outputs": []
    }
  ]
}